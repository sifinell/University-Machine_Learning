{
 "cells": [
  {
   "cell_type": "markdown",
   "id": "3bf38b86",
   "metadata": {},
   "source": [
    "# Shill Bidding"
   ]
  },
  {
   "cell_type": "code",
   "execution_count": 1,
   "id": "b5ccea8d",
   "metadata": {},
   "outputs": [],
   "source": [
    "#conda install -c conda-forge imbalanced-learn"
   ]
  },
  {
   "cell_type": "code",
   "execution_count": 2,
   "id": "365ab60b",
   "metadata": {},
   "outputs": [],
   "source": [
    "# space dedicated to libraries that will be imported to support our work\n",
    "\n",
    "import warnings\n",
    "warnings.filterwarnings('ignore') # We can suppress the warnings\n",
    "\n",
    "import pandas as pd\n",
    "import numpy as np\n",
    "import matplotlib.pyplot as plt\n",
    "import seaborn as sns\n",
    "from sklearn.metrics import confusion_matrix\n",
    "from sklearn.metrics import classification_report\n",
    "from sklearn.preprocessing import MinMaxScaler\n",
    "from imblearn.over_sampling import SMOTE\n",
    "from imblearn.under_sampling import NearMiss\n",
    "\n",
    "# split\n",
    "from sklearn.model_selection import train_test_split\n",
    "\n",
    "from sklearn import metrics\n",
    "from sklearn.metrics import roc_auc_score\n",
    "\n",
    "# knn\n",
    "from sklearn.neighbors import KNeighborsClassifier\n",
    "\n",
    "# random forest\n",
    "from sklearn.ensemble import RandomForestClassifier\n",
    "from sklearn.model_selection import RandomizedSearchCV\n",
    "from sklearn.model_selection import GridSearchCV\n",
    "\n",
    "# logistic regression\n",
    "from sklearn.linear_model import LogisticRegression"
   ]
  },
  {
   "cell_type": "markdown",
   "id": "5695ab46",
   "metadata": {},
   "source": [
    "### CA Description"
   ]
  },
  {
   "cell_type": "markdown",
   "id": "306d1154",
   "metadata": {},
   "source": [
    "Online retailer, eBay is providing an option of bidding to their customers globally. Bidding is employed to\n",
    "find the real price of items in the market based on the demand. The price offered by anyone participating in\n",
    "this process is termed as a 'bid'. \n",
    "\n",
    "Normal bids are classified as ‘0’ bids in the data set and anomalous bids as ‘1’. Your goal is to use\n",
    "classification or clustering algorithms to predict the bids in the future. You would need to clean and prepare\n",
    "the dataset for the machine learning modelling under the following guidelines."
   ]
  },
  {
   "cell_type": "markdown",
   "id": "158984d6",
   "metadata": {},
   "source": [
    "- Provide a logical justification based on the reasoning for the specific choice of machine learning\n",
    "approaches (supervised/ Unsupervised) for the provided Shill bidding data set. [0-20]\n",
    "- Machine Learning models can be used for Prediction, Classification, Clustering and Time series\n",
    "analysis. You should plan on trying multiple models (at least two) with proper parameter-selection\n",
    "using hyperparameters and show a comparison between the chosen modelling approaches. [0-30]\n",
    "- You should train and test the Machine learning models in the case of supervised learning and use\n",
    "other metrics for unsupervised learning if appropriate. Use cross validation to provide authenticity\n",
    "of the modelling outcomes. Perform a comparison of ML modelling outcomes using a Table or graph\n",
    "visualization.[0-30]\n",
    "- Describe the rationale for the selection of models and justify the choice of hyperparameters.[0-10]\n",
    "- A Table or graphics should be provided to illustrate the similarities and contrast of the Machine\n",
    "Learning modelling outcomes.[0-10]"
   ]
  },
  {
   "cell_type": "markdown",
   "id": "0ebdda88",
   "metadata": {},
   "source": [
    "### Attribute information"
   ]
  },
  {
   "cell_type": "markdown",
   "id": "f0393039",
   "metadata": {},
   "source": [
    "- Record ID: Unique identifier of a record in the dataset.\n",
    "- Auction ID: Unique identifier of an auction.\n",
    "- Bidder ID: Unique identifier of a bidder.\n",
    "- Bidder Tendency: A shill bidder participates exclusively in auctions of few sellers rather than a diversified lot. This is a collusive act involving the fraudulent seller and an accomplice.\n",
    "- Bidding Ratio: A shill bidder participates more frequently to raise the auction price and attract higher bids from legitimate participants.\n",
    "- Successive Outbidding: A shill bidder successively outbids himself even though he is the current winner to increase the price gradually with small consecutive increments.\n",
    "- Last Bidding: A shill bidder becomes inactive at the last stage of the auction (more than 90\\% of the auction duration) to avoid winning the auction.\n",
    "- Auction Bids: Auctions with SB activities tend to have a much higher number of bids than the average of bids in concurrent auctions.\n",
    "- Auction Starting Price: a shill bidder usually offers a small starting price to attract legitimate bidders into the auction.\n",
    "- Early Bidding: A shill bidder tends to bid pretty early in the auction (less than 25\\% of the auction duration) to get the attention of auction users.\n",
    "- Winning Ratio: A shill bidder competes in many auctions but hardly wins any auctions.\n",
    "- Auction Duration: How long an auction lasted.\n",
    "- Class: 0 for normal behaviour bidding; 1 for otherwise."
   ]
  },
  {
   "cell_type": "markdown",
   "id": "3f8b67d7",
   "metadata": {},
   "source": [
    "  \n",
    "\n"
   ]
  },
  {
   "cell_type": "markdown",
   "id": "2947c714",
   "metadata": {},
   "source": [
    "-----------------------------------------------------"
   ]
  },
  {
   "cell_type": "markdown",
   "id": "4e691047",
   "metadata": {},
   "source": [
    "## Introduction"
   ]
  },
  {
   "cell_type": "markdown",
   "id": "b0554d08",
   "metadata": {},
   "source": [
    "For this assesment I will work with CRISP-DM methodology and, more specifically, the following sections will be covered:\n",
    "- Business Understanding\n",
    "- Data Understanding\n",
    "- Data Preparation\n",
    "- Modeling\n",
    "- Evaluation\n",
    "- Deployment\n",
    "\n",
    "Given that the scoring is mostly given by the Machine Learning component, an heavier focus will be given around the last three steps. The reason why the first three steps will also be included in the report is due to the fact that they are still required to get good model results. Example: without a proper preparation the model wouldn't perform as we would like to. "
   ]
  },
  {
   "cell_type": "markdown",
   "id": "11a3f5ba",
   "metadata": {},
   "source": [
    "## Business Understanding"
   ]
  },
  {
   "cell_type": "markdown",
   "id": "f19bfc45",
   "metadata": {},
   "source": [
    "Business understanding is the first step in CRISP-DM. It involves gaining an understanding of the business context in which the  project will be conducted. This includes understanding the business objectives of the project, the target audience, and the available resources.\n",
    "\n",
    "- Goal: to predict the bids in the future, either as class 0 (normal) or 1 (anomalous). To make the goal succesful we aim for a 90% accuracy with our model\n",
    "- Audience: it will be the CCT Staff reviewing this assignment\n",
    "- Available resources: the csv provided by UCI will be used as our dataset"
   ]
  },
  {
   "cell_type": "markdown",
   "id": "466dcdb0",
   "metadata": {},
   "source": [
    "## Data Understanding"
   ]
  },
  {
   "cell_type": "markdown",
   "id": "f48d33f3",
   "metadata": {},
   "source": [
    "Data understanding is the second step in CRISP-DM. It involves gaining an understanding of the data that will be used in the data mining project. We will explore the available data to get a better understanding of its content, structure, and quality."
   ]
  },
  {
   "cell_type": "markdown",
   "id": "7f30df62",
   "metadata": {},
   "source": [
    "Let's import the csv data into a DataFrame: "
   ]
  },
  {
   "cell_type": "code",
   "execution_count": 3,
   "id": "3fc6d0e5",
   "metadata": {},
   "outputs": [],
   "source": [
    "# dataset import\n",
    "df = pd.read_csv(\"Shill Bidding Dataset.csv\", index_col=\"Record_ID\")"
   ]
  },
  {
   "cell_type": "markdown",
   "id": "93537dd3",
   "metadata": {},
   "source": [
    "Let's do a quick exploration using the head function:"
   ]
  },
  {
   "cell_type": "code",
   "execution_count": 4,
   "id": "de6126e9",
   "metadata": {
    "scrolled": true
   },
   "outputs": [
    {
     "data": {
      "text/html": [
       "<div>\n",
       "<style scoped>\n",
       "    .dataframe tbody tr th:only-of-type {\n",
       "        vertical-align: middle;\n",
       "    }\n",
       "\n",
       "    .dataframe tbody tr th {\n",
       "        vertical-align: top;\n",
       "    }\n",
       "\n",
       "    .dataframe thead th {\n",
       "        text-align: right;\n",
       "    }\n",
       "</style>\n",
       "<table border=\"1\" class=\"dataframe\">\n",
       "  <thead>\n",
       "    <tr style=\"text-align: right;\">\n",
       "      <th></th>\n",
       "      <th>Auction_ID</th>\n",
       "      <th>Bidder_ID</th>\n",
       "      <th>Bidder_Tendency</th>\n",
       "      <th>Bidding_Ratio</th>\n",
       "      <th>Successive_Outbidding</th>\n",
       "      <th>Last_Bidding</th>\n",
       "      <th>Auction_Bids</th>\n",
       "      <th>Starting_Price_Average</th>\n",
       "      <th>Early_Bidding</th>\n",
       "      <th>Winning_Ratio</th>\n",
       "      <th>Auction_Duration</th>\n",
       "      <th>Class</th>\n",
       "    </tr>\n",
       "    <tr>\n",
       "      <th>Record_ID</th>\n",
       "      <th></th>\n",
       "      <th></th>\n",
       "      <th></th>\n",
       "      <th></th>\n",
       "      <th></th>\n",
       "      <th></th>\n",
       "      <th></th>\n",
       "      <th></th>\n",
       "      <th></th>\n",
       "      <th></th>\n",
       "      <th></th>\n",
       "      <th></th>\n",
       "    </tr>\n",
       "  </thead>\n",
       "  <tbody>\n",
       "    <tr>\n",
       "      <th>1</th>\n",
       "      <td>732</td>\n",
       "      <td>_***i</td>\n",
       "      <td>0.200000</td>\n",
       "      <td>0.400000</td>\n",
       "      <td>0.0</td>\n",
       "      <td>0.000028</td>\n",
       "      <td>0.0</td>\n",
       "      <td>0.993593</td>\n",
       "      <td>0.000028</td>\n",
       "      <td>0.666667</td>\n",
       "      <td>5</td>\n",
       "      <td>0</td>\n",
       "    </tr>\n",
       "    <tr>\n",
       "      <th>2</th>\n",
       "      <td>732</td>\n",
       "      <td>g***r</td>\n",
       "      <td>0.024390</td>\n",
       "      <td>0.200000</td>\n",
       "      <td>0.0</td>\n",
       "      <td>0.013123</td>\n",
       "      <td>0.0</td>\n",
       "      <td>0.993593</td>\n",
       "      <td>0.013123</td>\n",
       "      <td>0.944444</td>\n",
       "      <td>5</td>\n",
       "      <td>0</td>\n",
       "    </tr>\n",
       "    <tr>\n",
       "      <th>3</th>\n",
       "      <td>732</td>\n",
       "      <td>t***p</td>\n",
       "      <td>0.142857</td>\n",
       "      <td>0.200000</td>\n",
       "      <td>0.0</td>\n",
       "      <td>0.003042</td>\n",
       "      <td>0.0</td>\n",
       "      <td>0.993593</td>\n",
       "      <td>0.003042</td>\n",
       "      <td>1.000000</td>\n",
       "      <td>5</td>\n",
       "      <td>0</td>\n",
       "    </tr>\n",
       "    <tr>\n",
       "      <th>4</th>\n",
       "      <td>732</td>\n",
       "      <td>7***n</td>\n",
       "      <td>0.100000</td>\n",
       "      <td>0.200000</td>\n",
       "      <td>0.0</td>\n",
       "      <td>0.097477</td>\n",
       "      <td>0.0</td>\n",
       "      <td>0.993593</td>\n",
       "      <td>0.097477</td>\n",
       "      <td>1.000000</td>\n",
       "      <td>5</td>\n",
       "      <td>0</td>\n",
       "    </tr>\n",
       "    <tr>\n",
       "      <th>5</th>\n",
       "      <td>900</td>\n",
       "      <td>z***z</td>\n",
       "      <td>0.051282</td>\n",
       "      <td>0.222222</td>\n",
       "      <td>0.0</td>\n",
       "      <td>0.001318</td>\n",
       "      <td>0.0</td>\n",
       "      <td>0.000000</td>\n",
       "      <td>0.001242</td>\n",
       "      <td>0.500000</td>\n",
       "      <td>7</td>\n",
       "      <td>0</td>\n",
       "    </tr>\n",
       "  </tbody>\n",
       "</table>\n",
       "</div>"
      ],
      "text/plain": [
       "           Auction_ID Bidder_ID  Bidder_Tendency  Bidding_Ratio  \\\n",
       "Record_ID                                                         \n",
       "1                 732     _***i         0.200000       0.400000   \n",
       "2                 732     g***r         0.024390       0.200000   \n",
       "3                 732     t***p         0.142857       0.200000   \n",
       "4                 732     7***n         0.100000       0.200000   \n",
       "5                 900     z***z         0.051282       0.222222   \n",
       "\n",
       "           Successive_Outbidding  Last_Bidding  Auction_Bids  \\\n",
       "Record_ID                                                      \n",
       "1                            0.0      0.000028           0.0   \n",
       "2                            0.0      0.013123           0.0   \n",
       "3                            0.0      0.003042           0.0   \n",
       "4                            0.0      0.097477           0.0   \n",
       "5                            0.0      0.001318           0.0   \n",
       "\n",
       "           Starting_Price_Average  Early_Bidding  Winning_Ratio  \\\n",
       "Record_ID                                                         \n",
       "1                        0.993593       0.000028       0.666667   \n",
       "2                        0.993593       0.013123       0.944444   \n",
       "3                        0.993593       0.003042       1.000000   \n",
       "4                        0.993593       0.097477       1.000000   \n",
       "5                        0.000000       0.001242       0.500000   \n",
       "\n",
       "           Auction_Duration  Class  \n",
       "Record_ID                           \n",
       "1                         5      0  \n",
       "2                         5      0  \n",
       "3                         5      0  \n",
       "4                         5      0  \n",
       "5                         7      0  "
      ]
     },
     "execution_count": 4,
     "metadata": {},
     "output_type": "execute_result"
    }
   ],
   "source": [
    "# return first 5 rows of the dataset\n",
    "df.head()"
   ]
  },
  {
   "cell_type": "markdown",
   "id": "6f0f5835",
   "metadata": {},
   "source": [
    "Let's get the dimension of our dataset:"
   ]
  },
  {
   "cell_type": "code",
   "execution_count": 5,
   "id": "2d974446",
   "metadata": {},
   "outputs": [
    {
     "data": {
      "text/plain": [
       "(6321, 12)"
      ]
     },
     "execution_count": 5,
     "metadata": {},
     "output_type": "execute_result"
    }
   ],
   "source": [
    "# return number of rows and columns\n",
    "df.shape"
   ]
  },
  {
   "cell_type": "markdown",
   "id": "891245ad",
   "metadata": {},
   "source": [
    "Let's get a better understanding of the dataset structure:"
   ]
  },
  {
   "cell_type": "code",
   "execution_count": 6,
   "id": "594a7fee",
   "metadata": {},
   "outputs": [
    {
     "name": "stdout",
     "output_type": "stream",
     "text": [
      "<class 'pandas.core.frame.DataFrame'>\n",
      "Int64Index: 6321 entries, 1 to 15144\n",
      "Data columns (total 12 columns):\n",
      " #   Column                  Non-Null Count  Dtype  \n",
      "---  ------                  --------------  -----  \n",
      " 0   Auction_ID              6321 non-null   int64  \n",
      " 1   Bidder_ID               6321 non-null   object \n",
      " 2   Bidder_Tendency         6321 non-null   float64\n",
      " 3   Bidding_Ratio           6321 non-null   float64\n",
      " 4   Successive_Outbidding   6321 non-null   float64\n",
      " 5   Last_Bidding            6321 non-null   float64\n",
      " 6   Auction_Bids            6321 non-null   float64\n",
      " 7   Starting_Price_Average  6321 non-null   float64\n",
      " 8   Early_Bidding           6321 non-null   float64\n",
      " 9   Winning_Ratio           6321 non-null   float64\n",
      " 10  Auction_Duration        6321 non-null   int64  \n",
      " 11  Class                   6321 non-null   int64  \n",
      "dtypes: float64(8), int64(3), object(1)\n",
      "memory usage: 642.0+ KB\n"
     ]
    }
   ],
   "source": [
    "# return info about the dataset\n",
    "df.info()"
   ]
  },
  {
   "cell_type": "markdown",
   "id": "f861ee4a",
   "metadata": {},
   "source": [
    "Let's get a statistical descrption using the describe function:"
   ]
  },
  {
   "cell_type": "code",
   "execution_count": 7,
   "id": "f5970551",
   "metadata": {},
   "outputs": [
    {
     "data": {
      "text/html": [
       "<div>\n",
       "<style scoped>\n",
       "    .dataframe tbody tr th:only-of-type {\n",
       "        vertical-align: middle;\n",
       "    }\n",
       "\n",
       "    .dataframe tbody tr th {\n",
       "        vertical-align: top;\n",
       "    }\n",
       "\n",
       "    .dataframe thead th {\n",
       "        text-align: right;\n",
       "    }\n",
       "</style>\n",
       "<table border=\"1\" class=\"dataframe\">\n",
       "  <thead>\n",
       "    <tr style=\"text-align: right;\">\n",
       "      <th></th>\n",
       "      <th>Auction_ID</th>\n",
       "      <th>Bidder_Tendency</th>\n",
       "      <th>Bidding_Ratio</th>\n",
       "      <th>Successive_Outbidding</th>\n",
       "      <th>Last_Bidding</th>\n",
       "      <th>Auction_Bids</th>\n",
       "      <th>Starting_Price_Average</th>\n",
       "      <th>Early_Bidding</th>\n",
       "      <th>Winning_Ratio</th>\n",
       "      <th>Auction_Duration</th>\n",
       "      <th>Class</th>\n",
       "    </tr>\n",
       "  </thead>\n",
       "  <tbody>\n",
       "    <tr>\n",
       "      <th>count</th>\n",
       "      <td>6321.000000</td>\n",
       "      <td>6321.000000</td>\n",
       "      <td>6321.000000</td>\n",
       "      <td>6321.000000</td>\n",
       "      <td>6321.000000</td>\n",
       "      <td>6321.000000</td>\n",
       "      <td>6321.000000</td>\n",
       "      <td>6321.000000</td>\n",
       "      <td>6321.000000</td>\n",
       "      <td>6321.000000</td>\n",
       "      <td>6321.000000</td>\n",
       "    </tr>\n",
       "    <tr>\n",
       "      <th>mean</th>\n",
       "      <td>1241.388230</td>\n",
       "      <td>0.142541</td>\n",
       "      <td>0.127670</td>\n",
       "      <td>0.103781</td>\n",
       "      <td>0.463119</td>\n",
       "      <td>0.231606</td>\n",
       "      <td>0.472821</td>\n",
       "      <td>0.430683</td>\n",
       "      <td>0.367731</td>\n",
       "      <td>4.615093</td>\n",
       "      <td>0.106787</td>\n",
       "    </tr>\n",
       "    <tr>\n",
       "      <th>std</th>\n",
       "      <td>735.770789</td>\n",
       "      <td>0.197084</td>\n",
       "      <td>0.131530</td>\n",
       "      <td>0.279698</td>\n",
       "      <td>0.380097</td>\n",
       "      <td>0.255252</td>\n",
       "      <td>0.489912</td>\n",
       "      <td>0.380785</td>\n",
       "      <td>0.436573</td>\n",
       "      <td>2.466629</td>\n",
       "      <td>0.308867</td>\n",
       "    </tr>\n",
       "    <tr>\n",
       "      <th>min</th>\n",
       "      <td>5.000000</td>\n",
       "      <td>0.000000</td>\n",
       "      <td>0.011765</td>\n",
       "      <td>0.000000</td>\n",
       "      <td>0.000000</td>\n",
       "      <td>0.000000</td>\n",
       "      <td>0.000000</td>\n",
       "      <td>0.000000</td>\n",
       "      <td>0.000000</td>\n",
       "      <td>1.000000</td>\n",
       "      <td>0.000000</td>\n",
       "    </tr>\n",
       "    <tr>\n",
       "      <th>25%</th>\n",
       "      <td>589.000000</td>\n",
       "      <td>0.027027</td>\n",
       "      <td>0.043478</td>\n",
       "      <td>0.000000</td>\n",
       "      <td>0.047928</td>\n",
       "      <td>0.000000</td>\n",
       "      <td>0.000000</td>\n",
       "      <td>0.026620</td>\n",
       "      <td>0.000000</td>\n",
       "      <td>3.000000</td>\n",
       "      <td>0.000000</td>\n",
       "    </tr>\n",
       "    <tr>\n",
       "      <th>50%</th>\n",
       "      <td>1246.000000</td>\n",
       "      <td>0.062500</td>\n",
       "      <td>0.083333</td>\n",
       "      <td>0.000000</td>\n",
       "      <td>0.440937</td>\n",
       "      <td>0.142857</td>\n",
       "      <td>0.000000</td>\n",
       "      <td>0.360104</td>\n",
       "      <td>0.000000</td>\n",
       "      <td>5.000000</td>\n",
       "      <td>0.000000</td>\n",
       "    </tr>\n",
       "    <tr>\n",
       "      <th>75%</th>\n",
       "      <td>1867.000000</td>\n",
       "      <td>0.166667</td>\n",
       "      <td>0.166667</td>\n",
       "      <td>0.000000</td>\n",
       "      <td>0.860363</td>\n",
       "      <td>0.454545</td>\n",
       "      <td>0.993593</td>\n",
       "      <td>0.826761</td>\n",
       "      <td>0.851852</td>\n",
       "      <td>7.000000</td>\n",
       "      <td>0.000000</td>\n",
       "    </tr>\n",
       "    <tr>\n",
       "      <th>max</th>\n",
       "      <td>2538.000000</td>\n",
       "      <td>1.000000</td>\n",
       "      <td>1.000000</td>\n",
       "      <td>1.000000</td>\n",
       "      <td>0.999900</td>\n",
       "      <td>0.788235</td>\n",
       "      <td>0.999935</td>\n",
       "      <td>0.999900</td>\n",
       "      <td>1.000000</td>\n",
       "      <td>10.000000</td>\n",
       "      <td>1.000000</td>\n",
       "    </tr>\n",
       "  </tbody>\n",
       "</table>\n",
       "</div>"
      ],
      "text/plain": [
       "        Auction_ID  Bidder_Tendency  Bidding_Ratio  Successive_Outbidding  \\\n",
       "count  6321.000000      6321.000000    6321.000000            6321.000000   \n",
       "mean   1241.388230         0.142541       0.127670               0.103781   \n",
       "std     735.770789         0.197084       0.131530               0.279698   \n",
       "min       5.000000         0.000000       0.011765               0.000000   \n",
       "25%     589.000000         0.027027       0.043478               0.000000   \n",
       "50%    1246.000000         0.062500       0.083333               0.000000   \n",
       "75%    1867.000000         0.166667       0.166667               0.000000   \n",
       "max    2538.000000         1.000000       1.000000               1.000000   \n",
       "\n",
       "       Last_Bidding  Auction_Bids  Starting_Price_Average  Early_Bidding  \\\n",
       "count   6321.000000   6321.000000             6321.000000    6321.000000   \n",
       "mean       0.463119      0.231606                0.472821       0.430683   \n",
       "std        0.380097      0.255252                0.489912       0.380785   \n",
       "min        0.000000      0.000000                0.000000       0.000000   \n",
       "25%        0.047928      0.000000                0.000000       0.026620   \n",
       "50%        0.440937      0.142857                0.000000       0.360104   \n",
       "75%        0.860363      0.454545                0.993593       0.826761   \n",
       "max        0.999900      0.788235                0.999935       0.999900   \n",
       "\n",
       "       Winning_Ratio  Auction_Duration        Class  \n",
       "count    6321.000000       6321.000000  6321.000000  \n",
       "mean        0.367731          4.615093     0.106787  \n",
       "std         0.436573          2.466629     0.308867  \n",
       "min         0.000000          1.000000     0.000000  \n",
       "25%         0.000000          3.000000     0.000000  \n",
       "50%         0.000000          5.000000     0.000000  \n",
       "75%         0.851852          7.000000     0.000000  \n",
       "max         1.000000         10.000000     1.000000  "
      ]
     },
     "execution_count": 7,
     "metadata": {},
     "output_type": "execute_result"
    }
   ],
   "source": [
    "# return a statistical description\n",
    "df.describe()"
   ]
  },
  {
   "cell_type": "markdown",
   "id": "f4617174",
   "metadata": {},
   "source": [
    "Let's doublecheck if we have null values to take into consideration:"
   ]
  },
  {
   "cell_type": "code",
   "execution_count": 8,
   "id": "9e93e579",
   "metadata": {},
   "outputs": [
    {
     "data": {
      "text/plain": [
       "Auction_ID                0\n",
       "Bidder_ID                 0\n",
       "Bidder_Tendency           0\n",
       "Bidding_Ratio             0\n",
       "Successive_Outbidding     0\n",
       "Last_Bidding              0\n",
       "Auction_Bids              0\n",
       "Starting_Price_Average    0\n",
       "Early_Bidding             0\n",
       "Winning_Ratio             0\n",
       "Auction_Duration          0\n",
       "Class                     0\n",
       "dtype: int64"
      ]
     },
     "execution_count": 8,
     "metadata": {},
     "output_type": "execute_result"
    }
   ],
   "source": [
    "# return the sum of null values for each column\n",
    "df.isnull().sum()"
   ]
  },
  {
   "cell_type": "markdown",
   "id": "b907fcaf",
   "metadata": {},
   "source": [
    "Until now we can recap our findings as following:\n",
    "- We have 6321 rows and 12 columns\n",
    "- There is no null value\n",
    "- Only Bidder_ID is of type object\n",
    "- Only Auction_ID and Auction_Duration don't range from 0 to 1\n",
    "- Our target variable Class has a mean very close to the 0, meaning that our dataset is unbalanced toward 0"
   ]
  },
  {
   "cell_type": "markdown",
   "id": "eb1e8848",
   "metadata": {},
   "source": [
    "We now want to check how unbalanced is our dataset and, to do so, we will plot graph showing the count number for both classes 0 and 1."
   ]
  },
  {
   "cell_type": "markdown",
   "id": "632544ff",
   "metadata": {},
   "source": [
    "Let's first split our dataset into X and y. X will contain all columns except the Class, y will only contain the Class"
   ]
  },
  {
   "cell_type": "code",
   "execution_count": 9,
   "id": "521a6a35",
   "metadata": {},
   "outputs": [],
   "source": [
    "# dataset spli between X and y\n",
    "X = df.iloc[:,:-1]\n",
    "y = df.iloc[:,-1:]"
   ]
  },
  {
   "cell_type": "markdown",
   "id": "738ddbc4",
   "metadata": {},
   "source": [
    "The following code will be used to plot on the x-axis the class and on the y-axis the number of samples:"
   ]
  },
  {
   "cell_type": "code",
   "execution_count": 10,
   "id": "440d5bf8",
   "metadata": {},
   "outputs": [
    {
     "data": {
      "text/plain": [
       "Text(0, 0.5, 'Number of samples')"
      ]
     },
     "execution_count": 10,
     "metadata": {},
     "output_type": "execute_result"
    },
    {
     "data": {
      "image/png": "[encoded data removed]",
      "text/plain": [
       "<Figure size 720x720 with 1 Axes>"
      ]
     },
     "metadata": {
      "needs_background": "light"
     },
     "output_type": "display_data"
    }
   ],
   "source": [
    "# display grapth to show class distribution across the dataset\n",
    "plt.figure(figsize=(10,10))\n",
    "sns.countplot(x=\"Class\", data=y, order=y[\"Class\"].unique())\n",
    "plt.xlabel(\"Bid class\")\n",
    "plt.ylabel('Number of samples')"
   ]
  },
  {
   "cell_type": "markdown",
   "id": "28bf421d",
   "metadata": {},
   "source": [
    "As observed from the describe function, we have 5000 records classified as 0 and less than 1000 as 1. Given that this high unbalance could lead to incorrect predictions, during the data preparation phase we will make sure to balance the dataset."
   ]
  },
  {
   "cell_type": "markdown",
   "id": "8d1ce740",
   "metadata": {},
   "source": [
    "Before proceeding with the data preparation phase, we want to see if features do present outliers. To do so the Box Plot graph will be used:"
   ]
  },
  {
   "cell_type": "code",
   "execution_count": 11,
   "id": "40094803",
   "metadata": {
    "scrolled": false
   },
   "outputs": [
    {
     "data": {
      "image/png": "[encoded data removed]",
      "text/plain": [
       "<Figure size 720x2160 with 12 Axes>"
      ]
     },
     "metadata": {
      "needs_background": "light"
     },
     "output_type": "display_data"
    }
   ],
   "source": [
    "# display box-plot for each feature\n",
    "X.plot(kind=\"box\", subplots=True, layout=(6,2), figsize=(10,30), title='Box Plot for numeric input variables')\n",
    "plt.show()"
   ]
  },
  {
   "cell_type": "markdown",
   "id": "8f766a51",
   "metadata": {},
   "source": [
    "As a result of the Box Plot graph we do see that Bidder_Tendency and Bidding_Ratio are the features that present the highest number of outliers."
   ]
  },
  {
   "cell_type": "markdown",
   "id": "de0d92e4",
   "metadata": {},
   "source": [
    "## Data Preparation"
   ]
  },
  {
   "cell_type": "markdown",
   "id": "0e43d286",
   "metadata": {},
   "source": [
    "In this phase, the data is cleaned and transformed in order to make it suitable for modelling.\n",
    "\n",
    "I'm assuming that Auction_ID and Bidder_ID are are both variables that do not relate with the possible behaviour of a bid and, for this reason we want to understand how important they actually are in our dataset.\n",
    "\n",
    "Before to do so, during the previous phase we noticed the Bidder_ID is the only of type Object. We now want to convert it into a categorical value and cast to an int to be able to better understand its importance. "
   ]
  },
  {
   "cell_type": "markdown",
   "id": "abd9b23f",
   "metadata": {},
   "source": [
    "Let's copy the Bidder_ID feature into the bidder_id dataset:"
   ]
  },
  {
   "cell_type": "code",
   "execution_count": 12,
   "id": "7ae6141a",
   "metadata": {},
   "outputs": [],
   "source": [
    "# copy Bidder_ID feature into bidder_id dataset\n",
    "bidder_id = X[\"Bidder_ID\"]"
   ]
  },
  {
   "cell_type": "code",
   "execution_count": 13,
   "id": "fd2f0b53",
   "metadata": {
    "scrolled": true
   },
   "outputs": [
    {
     "name": "stdout",
     "output_type": "stream",
     "text": [
      "<class 'pandas.core.series.Series'>\n",
      "Int64Index: 6321 entries, 1 to 15144\n",
      "Series name: Bidder_ID\n",
      "Non-Null Count  Dtype \n",
      "--------------  ----- \n",
      "6321 non-null   object\n",
      "dtypes: object(1)\n",
      "memory usage: 98.8+ KB\n"
     ]
    },
    {
     "data": {
      "text/plain": [
       "(Record_ID\n",
       " 1    _***i\n",
       " 2    g***r\n",
       " 3    t***p\n",
       " 4    7***n\n",
       " 5    z***z\n",
       " Name: Bidder_ID, dtype: object,\n",
       " None)"
      ]
     },
     "execution_count": 13,
     "metadata": {},
     "output_type": "execute_result"
    }
   ],
   "source": [
    "# check the type and value of the copied feature\n",
    "bidder_id.head(), bidder_id.info()"
   ]
  },
  {
   "cell_type": "code",
   "execution_count": 14,
   "id": "76807755",
   "metadata": {},
   "outputs": [],
   "source": [
    "# casting of the feature from object to category and then to int\n",
    "bidder_id = bidder_id.astype('category')\n",
    "bidder_id = bidder_id.cat.codes"
   ]
  },
  {
   "cell_type": "code",
   "execution_count": 15,
   "id": "ec794e95",
   "metadata": {
    "scrolled": true
   },
   "outputs": [
    {
     "name": "stdout",
     "output_type": "stream",
     "text": [
      "<class 'pandas.core.series.Series'>\n",
      "Int64Index: 6321 entries, 1 to 15144\n",
      "Series name: None\n",
      "Non-Null Count  Dtype\n",
      "--------------  -----\n",
      "6321 non-null   int16\n",
      "dtypes: int16(1)\n",
      "memory usage: 61.7 KB\n"
     ]
    },
    {
     "data": {
      "text/plain": [
       "(Record_ID\n",
       " 1     302\n",
       " 2     513\n",
       " 3     908\n",
       " 4     234\n",
       " 5    1053\n",
       " dtype: int16,\n",
       " None)"
      ]
     },
     "execution_count": 15,
     "metadata": {},
     "output_type": "execute_result"
    }
   ],
   "source": [
    "# check the type and value of the manipulated feature\n",
    "bidder_id.head(), bidder_id.info()"
   ]
  },
  {
   "cell_type": "markdown",
   "id": "914f1f72",
   "metadata": {},
   "source": [
    "Given that we were able to convert our object feature to an int, we now replace it in our X dataset:"
   ]
  },
  {
   "cell_type": "code",
   "execution_count": 16,
   "id": "7c21d98d",
   "metadata": {},
   "outputs": [],
   "source": [
    "# Bidder_ID feature replacement in the original dataset\n",
    "X[\"Bidder_ID\"] = bidder_id"
   ]
  },
  {
   "cell_type": "code",
   "execution_count": 17,
   "id": "16205001",
   "metadata": {},
   "outputs": [
    {
     "data": {
      "text/plain": [
       "((6321, 11), (6321, 1))"
      ]
     },
     "execution_count": 17,
     "metadata": {},
     "output_type": "execute_result"
    }
   ],
   "source": [
    "# X and y dimension verification\n",
    "X.shape, y.shape"
   ]
  },
  {
   "cell_type": "markdown",
   "id": "6843b898",
   "metadata": {},
   "source": [
    "As previously assumed, we now want to prove that Bidder_ID and Auction_ID are not relevant feature when predicting the class of a bid. For this reason we now want to determine the feature importances of our dataset to determine if we can create a lighter version of it.\n",
    "\n",
    "For this purpose we will Mean Decrease in Impurity (MDI) from a Random Forest Classifier.\n",
    "The following actions will be performed:\n",
    "- We define a Random Forest Classifier\n",
    "- We train it using our input variables X and our label y\n",
    "- We extract the MDI importances using the feature_importances_ function\n",
    "- We graphically plot our results"
   ]
  },
  {
   "cell_type": "code",
   "execution_count": 18,
   "id": "28aaecab",
   "metadata": {},
   "outputs": [
    {
     "data": {
      "text/html": [
       "<style>#sk-container-id-1 {color: black;background-color: white;}#sk-container-id-1 pre{padding: 0;}#sk-container-id-1 div.sk-toggleable {background-color: white;}#sk-container-id-1 label.sk-toggleable__label {cursor: pointer;display: block;width: 100%;margin-bottom: 0;padding: 0.3em;box-sizing: border-box;text-align: center;}#sk-container-id-1 label.sk-toggleable__label-arrow:before {content: \"▸\";float: left;margin-right: 0.25em;color: #696969;}#sk-container-id-1 label.sk-toggleable__label-arrow:hover:before {color: black;}#sk-container-id-1 div.sk-estimator:hover label.sk-toggleable__label-arrow:before {color: black;}#sk-container-id-1 div.sk-toggleable__content {max-height: 0;max-width: 0;overflow: hidden;text-align: left;background-color: #f0f8ff;}#sk-container-id-1 div.sk-toggleable__content pre {margin: 0.2em;color: black;border-radius: 0.25em;background-color: #f0f8ff;}#sk-container-id-1 input.sk-toggleable__control:checked~div.sk-toggleable__content {max-height: 200px;max-width: 100%;overflow: auto;}#sk-container-id-1 input.sk-toggleable__control:checked~label.sk-toggleable__label-arrow:before {content: \"▾\";}#sk-container-id-1 div.sk-estimator input.sk-toggleable__control:checked~label.sk-toggleable__label {background-color: #d4ebff;}#sk-container-id-1 div.sk-label input.sk-toggleable__control:checked~label.sk-toggleable__label {background-color: #d4ebff;}#sk-container-id-1 input.sk-hidden--visually {border: 0;clip: rect(1px 1px 1px 1px);clip: rect(1px, 1px, 1px, 1px);height: 1px;margin: -1px;overflow: hidden;padding: 0;position: absolute;width: 1px;}#sk-container-id-1 div.sk-estimator {font-family: monospace;background-color: #f0f8ff;border: 1px dotted black;border-radius: 0.25em;box-sizing: border-box;margin-bottom: 0.5em;}#sk-container-id-1 div.sk-estimator:hover {background-color: #d4ebff;}#sk-container-id-1 div.sk-parallel-item::after {content: \"\";width: 100%;border-bottom: 1px solid gray;flex-grow: 1;}#sk-container-id-1 div.sk-label:hover label.sk-toggleable__label {background-color: #d4ebff;}#sk-container-id-1 div.sk-serial::before {content: \"\";position: absolute;border-left: 1px solid gray;box-sizing: border-box;top: 0;bottom: 0;left: 50%;z-index: 0;}#sk-container-id-1 div.sk-serial {display: flex;flex-direction: column;align-items: center;background-color: white;padding-right: 0.2em;padding-left: 0.2em;position: relative;}#sk-container-id-1 div.sk-item {position: relative;z-index: 1;}#sk-container-id-1 div.sk-parallel {display: flex;align-items: stretch;justify-content: center;background-color: white;position: relative;}#sk-container-id-1 div.sk-item::before, #sk-container-id-1 div.sk-parallel-item::before {content: \"\";position: absolute;border-left: 1px solid gray;box-sizing: border-box;top: 0;bottom: 0;left: 50%;z-index: -1;}#sk-container-id-1 div.sk-parallel-item {display: flex;flex-direction: column;z-index: 1;position: relative;background-color: white;}#sk-container-id-1 div.sk-parallel-item:first-child::after {align-self: flex-end;width: 50%;}#sk-container-id-1 div.sk-parallel-item:last-child::after {align-self: flex-start;width: 50%;}#sk-container-id-1 div.sk-parallel-item:only-child::after {width: 0;}#sk-container-id-1 div.sk-dashed-wrapped {border: 1px dashed gray;margin: 0 0.4em 0.5em 0.4em;box-sizing: border-box;padding-bottom: 0.4em;background-color: white;}#sk-container-id-1 div.sk-label label {font-family: monospace;font-weight: bold;display: inline-block;line-height: 1.2em;}#sk-container-id-1 div.sk-label-container {text-align: center;}#sk-container-id-1 div.sk-container {/* jupyter's `normalize.less` sets `[hidden] { display: none; }` but bootstrap.min.css set `[hidden] { display: none !important; }` so we also need the `!important` here to be able to override the default hidden behavior on the sphinx rendered scikit-learn.org. See: https://github.com/scikit-learn/scikit-learn/issues/21755 */display: inline-block !important;position: relative;}#sk-container-id-1 div.sk-text-repr-fallback {display: none;}</style><div id=\"sk-container-id-1\" class=\"sk-top-container\"><div class=\"sk-text-repr-fallback\"><pre>RandomForestClassifier(random_state=0)</pre><b>In a Jupyter environment, please rerun this cell to show the HTML representation or trust the notebook. <br />On GitHub, the HTML representation is unable to render, please try loading this page with nbviewer.org.</b></div><div class=\"sk-container\" hidden><div class=\"sk-item\"><div class=\"sk-estimator sk-toggleable\"><input class=\"sk-toggleable__control sk-hidden--visually\" id=\"sk-estimator-id-1\" type=\"checkbox\" checked><label for=\"sk-estimator-id-1\" class=\"sk-toggleable__label sk-toggleable__label-arrow\">RandomForestClassifier</label><div class=\"sk-toggleable__content\"><pre>RandomForestClassifier(random_state=0)</pre></div></div></div></div></div>"
      ],
      "text/plain": [
       "RandomForestClassifier(random_state=0)"
      ]
     },
     "execution_count": 18,
     "metadata": {},
     "output_type": "execute_result"
    }
   ],
   "source": [
    "# definition of the rfc\n",
    "forest = RandomForestClassifier(random_state=0)\n",
    "# rfc fit\n",
    "forest.fit(X, y)"
   ]
  },
  {
   "cell_type": "code",
   "execution_count": 19,
   "id": "96aab809",
   "metadata": {},
   "outputs": [
    {
     "data": {
      "image/png": "[encoded data removed]",
      "text/plain": [
       "<Figure size 432x288 with 1 Axes>"
      ]
     },
     "metadata": {
      "needs_background": "light"
     },
     "output_type": "display_data"
    }
   ],
   "source": [
    "# extraction of important features mapped to input dataset columns, organized in ascending order\n",
    "mdi_importances = pd.Series(forest.feature_importances_, index=X.columns).sort_values(ascending=True)\n",
    "# graph plotting\n",
    "ax = mdi_importances.plot.barh()\n",
    "ax.set_title(\"Random Forest Feature Importances (MDI)\")\n",
    "ax.figure.tight_layout()"
   ]
  },
  {
   "cell_type": "markdown",
   "id": "1e4d4f85",
   "metadata": {},
   "source": [
    "As correctly guessed, Auction_ID and Bidder_ID result as low important in our dataset, for this reason we just proceed to drop them:"
   ]
  },
  {
   "cell_type": "code",
   "execution_count": 20,
   "id": "27d01ddb",
   "metadata": {},
   "outputs": [],
   "source": [
    "# we define the list of columns we want to keep\n",
    "columns = ['Bidder_Tendency', 'Bidding_Ratio',\n",
    "       'Successive_Outbidding', 'Last_Bidding', 'Auction_Bids',\n",
    "       'Starting_Price_Average', 'Early_Bidding', 'Winning_Ratio',\n",
    "       'Auction_Duration']"
   ]
  },
  {
   "cell_type": "code",
   "execution_count": 21,
   "id": "91672511",
   "metadata": {},
   "outputs": [],
   "source": [
    "# we replace our X dataset with a subset of features as previously determined\n",
    "X = X[columns]"
   ]
  },
  {
   "cell_type": "markdown",
   "id": "528b44df",
   "metadata": {},
   "source": [
    "Another important thing that we noticed in our data understanding phase is that most of the variables do range from 0 to 1 but Auction_Duration does not. To improve modelling performance end efficiency we want to scale our dataset so that all variables are ranging from 0 to 1. \n",
    "\n",
    "To do so, MinMaxScaler method will be used.\n",
    "\n",
    "Please note that we want to have a portion of our dataset that is presenting a real world scenario. For this reason the scaling will be performed only on the train dataset and not the test one."
   ]
  },
  {
   "cell_type": "markdown",
   "id": "3151b233",
   "metadata": {},
   "source": [
    "We now proceed with the splitting of our dataset, using a 70% propotion for the training and a 30% one for the test:"
   ]
  },
  {
   "cell_type": "code",
   "execution_count": 22,
   "id": "bc3b7f57",
   "metadata": {},
   "outputs": [],
   "source": [
    "# dataset splitting\n",
    "X_train, X_test, y_train, y_test = train_test_split(X, y, test_size = 0.3, random_state = 42) "
   ]
  },
  {
   "cell_type": "markdown",
   "id": "f3de4d7f",
   "metadata": {},
   "source": [
    "We now apply MinMaxScaler method to make our features ranging from 0 to 1:"
   ]
  },
  {
   "cell_type": "code",
   "execution_count": 23,
   "id": "e2058ba3",
   "metadata": {},
   "outputs": [],
   "source": [
    "# feature normalization\n",
    "sc = MinMaxScaler()\n",
    "X_train = sc.fit_transform(X_train)\n",
    "# X train dataset is reconverted into again into a Dataframe  \n",
    "X_train = pd.DataFrame(X_train)\n",
    "\n",
    "# MinMaxScaler looses the actual name of features, we now rename them\n",
    "for i in X_train:\n",
    "    X_train = X_train.rename(columns={i: columns[i]})"
   ]
  },
  {
   "cell_type": "markdown",
   "id": "921562a8",
   "metadata": {},
   "source": [
    "Now that the normalization on the input training dataset has appened, we want to graphically visualize the result we got:"
   ]
  },
  {
   "cell_type": "code",
   "execution_count": 24,
   "id": "4140f5a5",
   "metadata": {
    "scrolled": false
   },
   "outputs": [
    {
     "data": {
      "text/plain": [
       "Text(0, 0.5, 'Distribution')"
      ]
     },
     "execution_count": 24,
     "metadata": {},
     "output_type": "execute_result"
    },
    {
     "data": {
      "image/png": "[encoded data removed]",
      "text/plain": [
       "<Figure size 1440x720 with 1 Axes>"
      ]
     },
     "metadata": {
      "needs_background": "light"
     },
     "output_type": "display_data"
    }
   ],
   "source": [
    "# feature distribution plotting\n",
    "plt.figure(figsize=(20,10))\n",
    "sns.boxplot(data=X_train)\n",
    "plt.xlabel(\"Feature\")\n",
    "plt.ylabel(\"Distribution\")"
   ]
  },
  {
   "cell_type": "markdown",
   "id": "f0a79d1f",
   "metadata": {},
   "source": [
    "As we can see on the previous graph, all variables are now in the range 0 to 1 - meaning that the standardization did work. Unfortunatelly we still see outliers visible in the dataset."
   ]
  },
  {
   "cell_type": "markdown",
   "id": "7576a0d7",
   "metadata": {},
   "source": [
    "Last but not least, we remember that we have an high unbalanced dataset - meaning that most of our rows are classified as type 0. In reality this means that if we don't balance our training dataset to have a similar number of class 0 and 1 examples, we will probably be overfitting towards the class 0. In this scenario our model will be very good at predicting the class 0 samples but not the class 1 ones (the one we are more interested in). \n",
    "\n",
    "As discussed during our classes, there are two ways to handle unbalanced datasets:\n",
    "- SMOTE\n",
    "- Near Miss\n",
    "\n",
    "SMOTE works as an over-sampling method, meaning that it increases the minority class 1 by simply duplicating examples that won't add any new information to the dataset.\n",
    "\n",
    "Near Miss works as an under-sampling method, meaning that it reduces the majority class 0 by randomly dropping examples."
   ]
  },
  {
   "cell_type": "markdown",
   "id": "d09c71d3",
   "metadata": {},
   "source": [
    "Before making a decision on which model to try out, let's check how many samples of class 0 and 1 we have in our training dataset:"
   ]
  },
  {
   "cell_type": "code",
   "execution_count": 25,
   "id": "be92ac2c",
   "metadata": {},
   "outputs": [
    {
     "data": {
      "text/plain": [
       "Class\n",
       "0        3939\n",
       "1         485\n",
       "dtype: int64"
      ]
     },
     "execution_count": 25,
     "metadata": {},
     "output_type": "execute_result"
    }
   ],
   "source": [
    "# check class counts\n",
    "y_train.value_counts()"
   ]
  },
  {
   "cell_type": "markdown",
   "id": "448b8ff1",
   "metadata": {},
   "source": [
    "If we use the SMOTE method, we would have 3939 samples for both class 0 and 1.\n",
    "\n",
    "If we use the Near Miss method, we would have 485 samples for both class 0 and 1.\n",
    "\n",
    "For the sake of semplicity, we will work with Near Miss methodology. This is mainly due to the fact that during the modelling phase we will have to perform different trainings based on hyperparameter selection and we do not want to overload our hardware performance. If models won't perform as good as we want with the Near Miss method, we will then evaluete if SMOTE will be tested."
   ]
  },
  {
   "cell_type": "markdown",
   "id": "12594b82",
   "metadata": {},
   "source": [
    "Let's apply the Near Miss method to rebalance our dataset:"
   ]
  },
  {
   "cell_type": "code",
   "execution_count": 26,
   "id": "e85ba23a",
   "metadata": {},
   "outputs": [],
   "source": [
    "#smt = SMOTE()\n",
    "#X_train, y_train = smt.fit_resample(X_train, y_train)\n",
    "\n",
    "# method to balance our dataset\n",
    "nr = NearMiss()\n",
    "X_train, y_train = nr.fit_resample(X_train, y_train)"
   ]
  },
  {
   "cell_type": "markdown",
   "id": "fb9693ce",
   "metadata": {},
   "source": [
    "Let's now double check the number of classes 0 and 1 available to us:"
   ]
  },
  {
   "cell_type": "code",
   "execution_count": 27,
   "id": "b30ea2b1",
   "metadata": {},
   "outputs": [
    {
     "data": {
      "text/plain": [
       "Class\n",
       "0        485\n",
       "1        485\n",
       "dtype: int64"
      ]
     },
     "execution_count": 27,
     "metadata": {},
     "output_type": "execute_result"
    }
   ],
   "source": [
    "# check class counts\n",
    "y_train.value_counts()"
   ]
  },
  {
   "cell_type": "markdown",
   "id": "aa1b942e",
   "metadata": {},
   "source": [
    "## Modelling"
   ]
  },
  {
   "cell_type": "markdown",
   "id": "d6a4c55e",
   "metadata": {},
   "source": [
    "In this phase, various data mining techniques are applied to the prepared data in order to build one or more models that can be used to make predictions about bid class.\n",
    "\n",
    "In general, a supervised learning approach is used when you have labeled training data, meaning that the data includes both input examples and corresponding correct output labels. The goal of the supervised learning algorithm is to make predictions about unseen data by learning the relationship between the input features and the output labels from the training data.\n",
    "\n",
    "On the other hand, an unsupervised learning approach is used when you only have input data and no corresponding output labels. The goal of unsupervised learning is to discover patterns or relationships in the data without any prior knowledge about the structure of the data.\n",
    "\n",
    "In our case, since we already have a dataset with a target value Class, that is either 0 or 1, we will proceed with a supervised learning approach.\n",
    "\n",
    "It's worth noting that we could also potentially use an unsupervised learning approach as a preprocessing step to better understand features relationship from our dataset before applying a supervised learning algorithm. However, I feel that Supervised Learning is the best approach to start with given the already available target value.\n",
    "\n",
    "The following algorithms will be used and compared:\n",
    "- kNN\n",
    "- Random forest\n",
    "- Logistic Regression\n",
    "\n",
    "From the models we studied, also linear SVM could be used. Differently from Logistic Regression, it tries to find the “best” margin that separates the classes to reduce the risk of error on the data. It might be a very good choice given that it is less prone to outliers as it only cares about points that are close to the decision bundary. Given that we are working with a classification problem, I beliebe that Logistic Regression could be an easier implementation. If results won't be as good as we want, then SVM will be evalueted."
   ]
  },
  {
   "cell_type": "markdown",
   "id": "1bb0fa6e",
   "metadata": {},
   "source": [
    "### kNN"
   ]
  },
  {
   "cell_type": "markdown",
   "id": "0c82ad73",
   "metadata": {},
   "source": [
    "k-nearest neighbors (k-NN) is a supervised learning algorithm that is used for classification and regression tasks. It is based on the idea of determining the class or value of a target data point based on the class or value of its nearest neighbors.\n",
    "\n",
    "In the k-NN algorithm, the value of k is chosen by the user and represents the number of nearest neighbors that will be used to determine the class or value of the target data point. The algorithm works as follows:\n",
    "\n",
    "The distance between the target data point and all other data points in the dataset is calculated using a distance measure such as Euclidean distance.\n",
    "\n",
    "The k data points with the smallest distance to the target data point are chosen as its nearest neighbors.\n",
    "\n",
    "If the algorithm is being used for classification, the class of the target data point is determined by the majority class of its nearest neighbors. If the algorithm is being used for regression, the value of the target data point is determined by taking the mean or median of the values of its nearest neighbors.\n",
    "\n",
    "One advantage of the k-NN algorithm is that it is simple to implement and can be used for both classification and regression tasks. However, it can be computationally expensive and may not scale well to large datasets. It is also sensitive to the choice of the value of k, and finding the optimal value of k can be challenging."
   ]
  },
  {
   "cell_type": "markdown",
   "id": "d38d733a",
   "metadata": {},
   "source": [
    "Given that the only hyperparameter that must be selected, we will run the model using different values of k ranging from 0 to 100. We will then look at the test and training score results to determine which value of k returns a better result."
   ]
  },
  {
   "cell_type": "markdown",
   "id": "8dd44666",
   "metadata": {},
   "source": [
    "We stard to define ar array containing all possible values of k that will be used, and two matrixes (train_accuracy and test_accuracy) that will be used to store the accuracy results for the kth vaule:"
   ]
  },
  {
   "cell_type": "code",
   "execution_count": 28,
   "id": "f113a43f",
   "metadata": {},
   "outputs": [],
   "source": [
    "neighbors = np.arange(1, 100, 1)              # number of neighbors\n",
    "train_accuracy = np.zeros(len(neighbors))     # Declare and initialise the matrix\n",
    "test_accuracy = np.zeros(len(neighbors))      # Declare and initialise the matrix"
   ]
  },
  {
   "cell_type": "markdown",
   "id": "930c2ece",
   "metadata": {},
   "source": [
    "We now perform our model looping over possible k values. We then store the test and train accuracy results in our matrixs for later analysis:"
   ]
  },
  {
   "cell_type": "code",
   "execution_count": 29,
   "id": "6123b515",
   "metadata": {},
   "outputs": [],
   "source": [
    "for i, k in enumerate(neighbors):                          # for loop that checks the model for neighbor values 1,2,3,...,10\n",
    "    kNN = KNeighborsClassifier(n_neighbors = k)            # Initialise an object knn using KNeighborsClassifier method\n",
    "\n",
    "    # Fit the model\n",
    "    kNN.fit(X_train, y_train)                              # Call fit method to implement the ML KNeighborsClassifier model\n",
    "\n",
    "    # Compute accuracy on the training set\n",
    "    train_accuracy[i] = kNN.score(X_train, y_train)        # Save the score value in the train_accuracy array\n",
    "\n",
    "    # Note: we are not getting 100% on the training dataset and it is normal when k is different from 1\n",
    "    # here we are performing a score of each model on the training dataset\n",
    "    \n",
    "    # Compute accuracy on the test set\n",
    "    test_accuracy[i] = kNN.score(X_test, y_test)           # Save the score value in the train_accuracy array\n",
    "    #print(str(k) + \" \" + str(train_accuracy[i]) + \" \" + str(test_accuracy[i]))"
   ]
  },
  {
   "cell_type": "markdown",
   "id": "a74a6f39",
   "metadata": {},
   "source": [
    "At this point we want to graphycally see the results. We aim at find a value of k where training and test accuracy are similar, meaning that we are not overfitting or underfitting with our training and test datasets: "
   ]
  },
  {
   "cell_type": "code",
   "execution_count": 30,
   "id": "41281444",
   "metadata": {},
   "outputs": [
    {
     "data": {
      "image/png": "[encoded data removed]",
      "text/plain": [
       "<Figure size 1080x432 with 1 Axes>"
      ]
     },
     "metadata": {
      "needs_background": "light"
     },
     "output_type": "display_data"
    }
   ],
   "source": [
    "# X axis represents the value of k on which the model is trained, y axis represents the scoring result. \n",
    "# This is a two line graph where blue is testing and orange is training\n",
    "plt.figure(figsize = (15, 6))\n",
    "plt.title('KNN accuracy with varying number of neighbors', fontsize = 20)\n",
    "plt.plot(neighbors, test_accuracy, label = 'Testing Accuracy')\n",
    "plt.plot(neighbors, train_accuracy, label = 'Training accuracy')\n",
    "plt.legend(prop={'size': 20})\n",
    "plt.xlabel('Number of neighbors', fontsize = 20)\n",
    "plt.ylabel('Accuracy', fontsize = 20)\n",
    "plt.xticks(np.arange(1, max(neighbors), 5), fontsize = 20)\n",
    "#plt.xticks(fontsize = 20)\n",
    "plt.yticks(fontsize = 20)\n",
    "plt.grid()\n",
    "plt.show()\n",
    "\n",
    "'''\n",
    "with k=10 we are not underfitting or overfitting given the fact that the performance of training and test model \n",
    "are similar\n",
    "'''"
   ]
  },
  {
   "cell_type": "markdown",
   "id": "7ab7cb58",
   "metadata": {},
   "source": [
    "From previous graph we notice that the two line crosses for the k value between 11-16 and 66-71. Given that accuracy results are better in the range 11-16, we want to look at the k value in that range.\n",
    "\n",
    "Let's plot again our graph stretching the area 11-21:"
   ]
  },
  {
   "cell_type": "code",
   "execution_count": 31,
   "id": "adf83549",
   "metadata": {},
   "outputs": [
    {
     "data": {
      "image/png": "[encoded data removed]",
      "text/plain": [
       "<Figure size 1080x432 with 1 Axes>"
      ]
     },
     "metadata": {
      "needs_background": "light"
     },
     "output_type": "display_data"
    }
   ],
   "source": [
    "# X axis represents the value of k on which the model is trained, y axis represents the scoring result. \n",
    "# This is a two line graph where blue is testing and orange is training\n",
    "plt.figure(figsize = (15, 6))\n",
    "plt.title('KNN accuracy with varying number of neighbors', fontsize = 20)\n",
    "plt.plot(np.arange(11,21), test_accuracy[10:20], label = 'Testing Accuracy')\n",
    "plt.plot(np.arange(11,21), train_accuracy[10:20], label = 'Training accuracy')\n",
    "plt.legend(prop={'size': 20})\n",
    "plt.xlabel('Number of neighbors', fontsize = 20)\n",
    "plt.ylabel('Accuracy', fontsize = 20)\n",
    "plt.xticks(np.arange(11, 21, 1), fontsize = 20)\n",
    "#plt.xticks(fontsize = 20)\n",
    "plt.yticks(fontsize = 20)\n",
    "plt.grid()\n",
    "plt.show()"
   ]
  },
  {
   "cell_type": "markdown",
   "id": "17d39aff",
   "metadata": {},
   "source": [
    "The results for k=14 shows that we are clearly underfitting with the testing and overfitting with the training, the other way around happens with k=16. For this reason, we pickup 15 as the value of k. We now proceed with a model training for that value to extract:\n",
    "- Testing and training accuracy\n",
    "- Confusion Matrix\n",
    "- Classification report"
   ]
  },
  {
   "cell_type": "markdown",
   "id": "0a0e28fb",
   "metadata": {},
   "source": [
    "Let's start with the trainig of the model for k=15:"
   ]
  },
  {
   "cell_type": "code",
   "execution_count": 32,
   "id": "538b7611",
   "metadata": {},
   "outputs": [],
   "source": [
    "# Create KNN Classifier\n",
    "kNN = KNeighborsClassifier(n_neighbors = 15)\n",
    "\n",
    "# Train the model using the training sets\n",
    "kNN.fit(X_train, y_train)\n",
    "\n",
    "# Predict the response for test dataset\n",
    "y_pred = kNN.predict(X_test)"
   ]
  },
  {
   "cell_type": "markdown",
   "id": "07489034",
   "metadata": {},
   "source": [
    "Let's now get our model accuracy:"
   ]
  },
  {
   "cell_type": "code",
   "execution_count": 33,
   "id": "2b830a22",
   "metadata": {},
   "outputs": [
    {
     "name": "stdout",
     "output_type": "stream",
     "text": [
      "Training score: 0.946\n",
      "Testing score: 0.960\n"
     ]
    }
   ],
   "source": [
    "# Model Accuracy\n",
    "print('Training score: {:.3f}'.format(kNN.score(X_train,y_train)))\n",
    "print('Testing score: {:.3f}'.format(kNN.score(X_test,y_test)))"
   ]
  },
  {
   "cell_type": "markdown",
   "id": "2059df21",
   "metadata": {},
   "source": [
    "Let's now plot our confusion matrix:"
   ]
  },
  {
   "cell_type": "code",
   "execution_count": 34,
   "id": "ee944a0f",
   "metadata": {},
   "outputs": [
    {
     "data": {
      "text/plain": [
       "Text(0.5, 1.0, 'Confusion Matrix')"
      ]
     },
     "execution_count": 34,
     "metadata": {},
     "output_type": "execute_result"
    },
    {
     "data": {
      "image/png": "[encoded data removed]",
      "text/plain": [
       "<Figure size 432x288 with 2 Axes>"
      ]
     },
     "metadata": {
      "needs_background": "light"
     },
     "output_type": "display_data"
    }
   ],
   "source": [
    "ax = plt.subplot()\n",
    "\n",
    "# Calculate cm by calling a method named as 'confusion_matrix'\n",
    "cm = confusion_matrix(y_test, y_pred)\n",
    "\n",
    "# Call a method heatmap() to plot confusion matrix\n",
    "sns.heatmap(cm, annot = True)\n",
    "\n",
    "# Define x, y and title\n",
    "ax.set_xlabel('Predicted labels')\n",
    "ax.set_ylabel('True labels')\n",
    "ax.set_title('Confusion Matrix') "
   ]
  },
  {
   "cell_type": "markdown",
   "id": "3f2983a0",
   "metadata": {},
   "source": [
    "The matrix compares the actual target values with those predicted by the machine learning model. This gives us a holistic view of how well our classification model is performing and what kinds of errors it is making. \n",
    "\n",
    "In our case we got the following results:\n",
    "- True Negative (1.6e+03) - Class 0 correctly classified\n",
    "- False Positive (73) - Class 0 classified as 1\n",
    "- False Negative (3) - Class 1 classified as 0\n",
    "- True Positive (1.9e+02) - Class 1 correclty classified"
   ]
  },
  {
   "cell_type": "markdown",
   "id": "11ca5fba",
   "metadata": {},
   "source": [
    "Looking at just our accuracy result we might say that we built a very good model given that we are able to corretly predict the bid class - either as 0 or 1 - 96% of times.\n",
    "\n",
    "If we think about it, this is true but we are working with an high unbalanced training dataset where again we are very good at detecting normal behaviour bidding. Class 1 bidding are the one we are most interested in, from the plotted confusion matrix we see that only 3 class 1 bids were wrongly predicted. \n",
    "\n",
    "But what percentage is that? Let's see it building a classification report:"
   ]
  },
  {
   "cell_type": "code",
   "execution_count": 35,
   "id": "f133e23b",
   "metadata": {},
   "outputs": [
    {
     "name": "stdout",
     "output_type": "stream",
     "text": [
      "              precision    recall  f1-score   support\n",
      "\n",
      "           0       1.00      0.96      0.98      1707\n",
      "           1       0.72      0.98      0.83       190\n",
      "\n",
      "    accuracy                           0.96      1897\n",
      "   macro avg       0.86      0.97      0.90      1897\n",
      "weighted avg       0.97      0.96      0.96      1897\n",
      "\n"
     ]
    }
   ],
   "source": [
    "# Display the classification report\n",
    "print(classification_report(y_test, y_pred))"
   ]
  },
  {
   "cell_type": "markdown",
   "id": "c9f6ab8b",
   "metadata": {},
   "source": [
    "The classification report tells us that we have 1707 class 0 samples and 190 class 1 samples.\n",
    "What does it mean precision, recall and f1-score?\n",
    "\n",
    "Precision is a measure of the accuracy of a classification model when it predicts the positive class.\n",
    "Recall is a measure of the model's ability to identify all instances of the positive class.\n",
    "The F1 score is a balance between precision and recall. "
   ]
  },
  {
   "cell_type": "markdown",
   "id": "0b3c16ed",
   "metadata": {},
   "source": [
    "Given that we want to make sure that we are able to both identify 0 and 1 classes, we look at the f-1 score as a metric of comparison where we see that we have a value of 98% for class 0 and 83% for class 1. \n",
    "\n",
    "So far we are happy with the results we got, let's try to see our ROC Curve."
   ]
  },
  {
   "cell_type": "markdown",
   "id": "1659f886",
   "metadata": {},
   "source": [
    "A receiver operating characteristic (ROC) curve is a graphical representation of the performance of a binary classifier system as its discrimination threshold is varied. It is a plot of the true positive rate (also known as sensitivity or recall) on the y-axis and the false positive rate (also known as the fall-out) on the x-axis.\n",
    "\n",
    "The closer the ROC curve is to the upper left corner of the plot, the better the classifier is at distinguishing between positive and negative classes.\n",
    "\n",
    "The area under the curve (AUC) is a metric that summarizes the performance of a classifier. An AUC of 1 indicates a perfect classifier."
   ]
  },
  {
   "cell_type": "markdown",
   "id": "38b11c7c",
   "metadata": {},
   "source": [
    "Let's plot our ROC Curve:"
   ]
  },
  {
   "cell_type": "code",
   "execution_count": 36,
   "id": "be4fcca9",
   "metadata": {},
   "outputs": [
    {
     "data": {
      "image/png": "[encoded data removed]",
      "text/plain": [
       "<Figure size 432x288 with 1 Axes>"
      ]
     },
     "metadata": {
      "needs_background": "light"
     },
     "output_type": "display_data"
    }
   ],
   "source": [
    "# ROC Curve plotting\n",
    "from sklearn.metrics import roc_curve\n",
    "\n",
    "y_pred_proba = kNN.predict_proba(X_test)[:,1]\n",
    "\n",
    "fpr, tpr, thresholds = roc_curve(y_test, y_pred_proba)\n",
    "\n",
    "plt.plot([0,1],[0,1],'k--')\n",
    "plt.plot(fpr,tpr, label='Knn')\n",
    "plt.xlabel('fpr')\n",
    "plt.ylabel('tpr')\n",
    "plt.title('Knn(n_neighbors=15) ROC curve')\n",
    "plt.show()"
   ]
  },
  {
   "cell_type": "markdown",
   "id": "289a1349",
   "metadata": {},
   "source": [
    "And let's compute our AUC score:"
   ]
  },
  {
   "cell_type": "code",
   "execution_count": 37,
   "id": "c5c9e21e",
   "metadata": {},
   "outputs": [
    {
     "data": {
      "text/plain": [
       "0.9783630869793112"
      ]
     },
     "execution_count": 37,
     "metadata": {},
     "output_type": "execute_result"
    }
   ],
   "source": [
    "#Area under ROC curve\n",
    "from sklearn.metrics import roc_auc_score\n",
    "roc_auc_score(y_test,y_pred_proba)"
   ]
  },
  {
   "cell_type": "markdown",
   "id": "037295b5",
   "metadata": {},
   "source": [
    "We now want to store the result we got for further analysis:"
   ]
  },
  {
   "cell_type": "code",
   "execution_count": 43,
   "id": "8f0a7ad3",
   "metadata": {},
   "outputs": [],
   "source": [
    "# dict storing of knn results\n",
    "kNN_result = {\n",
    "    \"training_score\" : kNN.score(X_train,y_train), \n",
    "    \"test_score\": kNN.score(X_test,y_test), \n",
    "    \"cm\": cm, \n",
    "    \"classification_report\": classification_report(y_test, y_pred), \n",
    "    \"roc_auc_score\": roc_auc_score(y_test,y_pred_proba)\n",
    "}"
   ]
  },
  {
   "cell_type": "markdown",
   "id": "d9079344",
   "metadata": {},
   "source": [
    "Overall we are very happy with results we got, graphically proving that our kNN model is able to perform quite good. Let's now see how other technique will perform!  "
   ]
  },
  {
   "cell_type": "markdown",
   "id": "8ce38d9c",
   "metadata": {},
   "source": [
    "### Random Forest"
   ]
  },
  {
   "cell_type": "markdown",
   "id": "a16eb3b8",
   "metadata": {},
   "source": [
    "Random forest is an ensemble learning method for classification and regression tasks. It is a type of decision tree algorithm that is based on the idea of constructing a large number of decision trees, each of which is trained on a randomly selected subset of the training data, and then combining the predictions of these decision trees to make a final prediction.\n",
    "\n",
    "The decision trees in a random forest are trained using a variant of the bagging (bootstrap aggregating) method, which involves randomly sampling the training data with replacement to create multiple training sets, and then fitting a decision tree to each training set. The final prediction is made by averaging the predictions of all the decision trees in the forest, or by selecting the prediction of the majority of the trees in the case of a classification task.\n",
    "\n",
    "One advantage of random forest is that it is less prone to overfitting than a single decision tree, because the individual decision trees are trained on different subsets of the data and their predictions are averaged or majority-voted, which helps to reduce the variance of the model. Random forest is also relatively simple to implement and can be used for both classification and regression tasks. However, it can be computationally expensive to train and may not scale well to very large datasets. Given that our dataset is not that big, this is one of the reason why we are testing it."
   ]
  },
  {
   "cell_type": "markdown",
   "id": "14c0d1f7",
   "metadata": {},
   "source": [
    "Before starting, let's recall that an estimator is a decision tree that is trained on a subset of our training data. In our case we are creating 1000 of them and then averaging the performance results.\n",
    "\n",
    "Before trying to optimize our hyperparameters, let's try to just execute our Random Forest using 1000 estimators:"
   ]
  },
  {
   "cell_type": "code",
   "execution_count": 45,
   "id": "e120f612",
   "metadata": {},
   "outputs": [],
   "source": [
    "#Create a Gaussian Classifier\n",
    "rfc = RandomForestClassifier(n_estimators = 1000)\n",
    "\n",
    "#Train the model using the training sets y_pred=clf.predict(X_test)\n",
    "rfc.fit(X_train, y_train)\n",
    "\n",
    "y_pred = rfc.predict(X_test)"
   ]
  },
  {
   "cell_type": "markdown",
   "id": "5dee3a9d",
   "metadata": {},
   "source": [
    "Let's now check our test and training accuracy:"
   ]
  },
  {
   "cell_type": "code",
   "execution_count": 46,
   "id": "d8d3d331",
   "metadata": {},
   "outputs": [
    {
     "name": "stdout",
     "output_type": "stream",
     "text": [
      "Training score: 1.000\n",
      "Testing score: 0.937\n"
     ]
    }
   ],
   "source": [
    "# Model Accuracy\n",
    "print('Training score: {:.3f}'.format(rfc.score(X_train,y_train)))\n",
    "print('Testing score: {:.3f}'.format(rfc.score(X_test,y_test)))"
   ]
  },
  {
   "cell_type": "markdown",
   "id": "366e554a",
   "metadata": {},
   "source": [
    "From previous results, it is quite clear that we are overfitting towards our training dataset. Even though our testing accuracy might still look greate, let's try to see the confusion matrix:"
   ]
  },
  {
   "cell_type": "code",
   "execution_count": 47,
   "id": "9fe9f95f",
   "metadata": {},
   "outputs": [
    {
     "data": {
      "text/plain": [
       "Text(0.5, 1.0, 'Confusion Matrix')"
      ]
     },
     "execution_count": 47,
     "metadata": {},
     "output_type": "execute_result"
    },
    {
     "data": {
      "image/png": "[encoded data removed]",
      "text/plain": [
       "<Figure size 432x288 with 2 Axes>"
      ]
     },
     "metadata": {
      "needs_background": "light"
     },
     "output_type": "display_data"
    }
   ],
   "source": [
    "ax = plt.subplot()\n",
    "\n",
    "# Calculate cm by calling a method named as 'confusion_matrix'\n",
    "cm = confusion_matrix(y_test, y_pred)\n",
    "\n",
    "# Call a method heatmap() to plot confusion matrix\n",
    "sns.heatmap(cm, annot = True)\n",
    "\n",
    "# Define x, y and title\n",
    "ax.set_xlabel('Predicted labels')\n",
    "ax.set_ylabel('True labels')\n",
    "ax.set_title('Confusion Matrix') "
   ]
  },
  {
   "cell_type": "markdown",
   "id": "72f98dbd",
   "metadata": {},
   "source": [
    "And our classification report:"
   ]
  },
  {
   "cell_type": "code",
   "execution_count": 48,
   "id": "aed516ab",
   "metadata": {},
   "outputs": [
    {
     "name": "stdout",
     "output_type": "stream",
     "text": [
      "              precision    recall  f1-score   support\n",
      "\n",
      "           0       0.95      0.98      0.97      1707\n",
      "           1       0.74      0.57      0.64       190\n",
      "\n",
      "    accuracy                           0.94      1897\n",
      "   macro avg       0.85      0.78      0.81      1897\n",
      "weighted avg       0.93      0.94      0.93      1897\n",
      "\n"
     ]
    }
   ],
   "source": [
    "# Display the classification report\n",
    "print(classification_report(y_test, y_pred))"
   ]
  },
  {
   "cell_type": "markdown",
   "id": "7d1df0c3",
   "metadata": {},
   "source": [
    "Without properly tuning our Random Forest Classifier we immediatelly see that, with respect to kNN, we are performing better in reducing False Positive but we are also increasing False Negative.\n",
    "\n",
    "Please note that instead of reducing the Flase Positive we are more interested in reducing False Negative, not increasing them. This is due to the fact that it's better to have a normal bid (class 0) identified as potentially anomalous (class 1) instead of just ignoring an anomalous bid (class 1) as ignored and identified as a normal one (class 0).\n",
    "\n",
    "For this reason, let's now try to increase our Random Forest Classifier using GridSearchCV."
   ]
  },
  {
   "cell_type": "markdown",
   "id": "cf259467",
   "metadata": {},
   "source": [
    "Grid search cross-validation (CV) is a method for hyperparameter tuning that involves evaluating the performance of a model for all possible combinations of a set of hyperparameter values using cross-validation. It is an exhaustive search method that is used to find the optimal combination of hyperparameter values that yields the best model performance.\n",
    "\n",
    "To perform grid search CV, we have to specify a set of values for each hyperparameter, and the algorithm generates all possible combinations of these values. For each combination of hyperparameter values, the model is trained and evaluated using cross-validation. The combination of hyperparameter values that yields the best performance is retained.\n",
    "\n",
    "Let's not start with the definition of our hyperparameters:"
   ]
  },
  {
   "cell_type": "code",
   "execution_count": 49,
   "id": "b53ad86f",
   "metadata": {},
   "outputs": [],
   "source": [
    "# Hyper parameter definition\n",
    "param_grid = { \n",
    "    'n_estimators': [50, 100, 200],\n",
    "    'max_features': ['auto', 'sqrt', 'log2'],\n",
    "    'max_depth' : [4,5,6,7,8],\n",
    "    'criterion' :['gini', 'entropy']\n",
    "}"
   ]
  },
  {
   "cell_type": "markdown",
   "id": "9263abc3",
   "metadata": {},
   "source": [
    "And let's build our Cross Validation model using our training dataset:"
   ]
  },
  {
   "cell_type": "code",
   "execution_count": 50,
   "id": "8b0c0540",
   "metadata": {},
   "outputs": [
    {
     "data": {
      "text/html": [
       "<style>#sk-container-id-2 {color: black;background-color: white;}#sk-container-id-2 pre{padding: 0;}#sk-container-id-2 div.sk-toggleable {background-color: white;}#sk-container-id-2 label.sk-toggleable__label {cursor: pointer;display: block;width: 100%;margin-bottom: 0;padding: 0.3em;box-sizing: border-box;text-align: center;}#sk-container-id-2 label.sk-toggleable__label-arrow:before {content: \"▸\";float: left;margin-right: 0.25em;color: #696969;}#sk-container-id-2 label.sk-toggleable__label-arrow:hover:before {color: black;}#sk-container-id-2 div.sk-estimator:hover label.sk-toggleable__label-arrow:before {color: black;}#sk-container-id-2 div.sk-toggleable__content {max-height: 0;max-width: 0;overflow: hidden;text-align: left;background-color: #f0f8ff;}#sk-container-id-2 div.sk-toggleable__content pre {margin: 0.2em;color: black;border-radius: 0.25em;background-color: #f0f8ff;}#sk-container-id-2 input.sk-toggleable__control:checked~div.sk-toggleable__content {max-height: 200px;max-width: 100%;overflow: auto;}#sk-container-id-2 input.sk-toggleable__control:checked~label.sk-toggleable__label-arrow:before {content: \"▾\";}#sk-container-id-2 div.sk-estimator input.sk-toggleable__control:checked~label.sk-toggleable__label {background-color: #d4ebff;}#sk-container-id-2 div.sk-label input.sk-toggleable__control:checked~label.sk-toggleable__label {background-color: #d4ebff;}#sk-container-id-2 input.sk-hidden--visually {border: 0;clip: rect(1px 1px 1px 1px);clip: rect(1px, 1px, 1px, 1px);height: 1px;margin: -1px;overflow: hidden;padding: 0;position: absolute;width: 1px;}#sk-container-id-2 div.sk-estimator {font-family: monospace;background-color: #f0f8ff;border: 1px dotted black;border-radius: 0.25em;box-sizing: border-box;margin-bottom: 0.5em;}#sk-container-id-2 div.sk-estimator:hover {background-color: #d4ebff;}#sk-container-id-2 div.sk-parallel-item::after {content: \"\";width: 100%;border-bottom: 1px solid gray;flex-grow: 1;}#sk-container-id-2 div.sk-label:hover label.sk-toggleable__label {background-color: #d4ebff;}#sk-container-id-2 div.sk-serial::before {content: \"\";position: absolute;border-left: 1px solid gray;box-sizing: border-box;top: 0;bottom: 0;left: 50%;z-index: 0;}#sk-container-id-2 div.sk-serial {display: flex;flex-direction: column;align-items: center;background-color: white;padding-right: 0.2em;padding-left: 0.2em;position: relative;}#sk-container-id-2 div.sk-item {position: relative;z-index: 1;}#sk-container-id-2 div.sk-parallel {display: flex;align-items: stretch;justify-content: center;background-color: white;position: relative;}#sk-container-id-2 div.sk-item::before, #sk-container-id-2 div.sk-parallel-item::before {content: \"\";position: absolute;border-left: 1px solid gray;box-sizing: border-box;top: 0;bottom: 0;left: 50%;z-index: -1;}#sk-container-id-2 div.sk-parallel-item {display: flex;flex-direction: column;z-index: 1;position: relative;background-color: white;}#sk-container-id-2 div.sk-parallel-item:first-child::after {align-self: flex-end;width: 50%;}#sk-container-id-2 div.sk-parallel-item:last-child::after {align-self: flex-start;width: 50%;}#sk-container-id-2 div.sk-parallel-item:only-child::after {width: 0;}#sk-container-id-2 div.sk-dashed-wrapped {border: 1px dashed gray;margin: 0 0.4em 0.5em 0.4em;box-sizing: border-box;padding-bottom: 0.4em;background-color: white;}#sk-container-id-2 div.sk-label label {font-family: monospace;font-weight: bold;display: inline-block;line-height: 1.2em;}#sk-container-id-2 div.sk-label-container {text-align: center;}#sk-container-id-2 div.sk-container {/* jupyter's `normalize.less` sets `[hidden] { display: none; }` but bootstrap.min.css set `[hidden] { display: none !important; }` so we also need the `!important` here to be able to override the default hidden behavior on the sphinx rendered scikit-learn.org. See: https://github.com/scikit-learn/scikit-learn/issues/21755 */display: inline-block !important;position: relative;}#sk-container-id-2 div.sk-text-repr-fallback {display: none;}</style><div id=\"sk-container-id-2\" class=\"sk-top-container\"><div class=\"sk-text-repr-fallback\"><pre>GridSearchCV(estimator=RandomForestClassifier(random_state=42),\n",
       "             param_grid={&#x27;criterion&#x27;: [&#x27;gini&#x27;, &#x27;entropy&#x27;],\n",
       "                         &#x27;max_depth&#x27;: [4, 5, 6, 7, 8],\n",
       "                         &#x27;max_features&#x27;: [&#x27;auto&#x27;, &#x27;sqrt&#x27;, &#x27;log2&#x27;],\n",
       "                         &#x27;n_estimators&#x27;: [50, 100, 200]})</pre><b>In a Jupyter environment, please rerun this cell to show the HTML representation or trust the notebook. <br />On GitHub, the HTML representation is unable to render, please try loading this page with nbviewer.org.</b></div><div class=\"sk-container\" hidden><div class=\"sk-item sk-dashed-wrapped\"><div class=\"sk-label-container\"><div class=\"sk-label sk-toggleable\"><input class=\"sk-toggleable__control sk-hidden--visually\" id=\"sk-estimator-id-2\" type=\"checkbox\" ><label for=\"sk-estimator-id-2\" class=\"sk-toggleable__label sk-toggleable__label-arrow\">GridSearchCV</label><div class=\"sk-toggleable__content\"><pre>GridSearchCV(estimator=RandomForestClassifier(random_state=42),\n",
       "             param_grid={&#x27;criterion&#x27;: [&#x27;gini&#x27;, &#x27;entropy&#x27;],\n",
       "                         &#x27;max_depth&#x27;: [4, 5, 6, 7, 8],\n",
       "                         &#x27;max_features&#x27;: [&#x27;auto&#x27;, &#x27;sqrt&#x27;, &#x27;log2&#x27;],\n",
       "                         &#x27;n_estimators&#x27;: [50, 100, 200]})</pre></div></div></div><div class=\"sk-parallel\"><div class=\"sk-parallel-item\"><div class=\"sk-item\"><div class=\"sk-label-container\"><div class=\"sk-label sk-toggleable\"><input class=\"sk-toggleable__control sk-hidden--visually\" id=\"sk-estimator-id-3\" type=\"checkbox\" ><label for=\"sk-estimator-id-3\" class=\"sk-toggleable__label sk-toggleable__label-arrow\">estimator: RandomForestClassifier</label><div class=\"sk-toggleable__content\"><pre>RandomForestClassifier(random_state=42)</pre></div></div></div><div class=\"sk-serial\"><div class=\"sk-item\"><div class=\"sk-estimator sk-toggleable\"><input class=\"sk-toggleable__control sk-hidden--visually\" id=\"sk-estimator-id-4\" type=\"checkbox\" ><label for=\"sk-estimator-id-4\" class=\"sk-toggleable__label sk-toggleable__label-arrow\">RandomForestClassifier</label><div class=\"sk-toggleable__content\"><pre>RandomForestClassifier(random_state=42)</pre></div></div></div></div></div></div></div></div></div></div>"
      ],
      "text/plain": [
       "GridSearchCV(estimator=RandomForestClassifier(random_state=42),\n",
       "             param_grid={'criterion': ['gini', 'entropy'],\n",
       "                         'max_depth': [4, 5, 6, 7, 8],\n",
       "                         'max_features': ['auto', 'sqrt', 'log2'],\n",
       "                         'n_estimators': [50, 100, 200]})"
      ]
     },
     "execution_count": 50,
     "metadata": {},
     "output_type": "execute_result"
    }
   ],
   "source": [
    "# cross validation model building\n",
    "rfc = RandomForestClassifier(random_state=42)\n",
    "CV = GridSearchCV(estimator=rfc, param_grid=param_grid)\n",
    "CV.fit(X_train, y_train)"
   ]
  },
  {
   "cell_type": "markdown",
   "id": "1363a3fd",
   "metadata": {},
   "source": [
    "We now want to print out the best hyperparameters identified:"
   ]
  },
  {
   "cell_type": "code",
   "execution_count": 1,
   "id": "dc6a8d63",
   "metadata": {},
   "outputs": [
    {
     "ename": "NameError",
     "evalue": "name 'CV' is not defined",
     "output_type": "error",
     "traceback": [
      "\u001b[1;31m---------------------------------------------------------------------------\u001b[0m",
      "\u001b[1;31mNameError\u001b[0m                                 Traceback (most recent call last)",
      "Input \u001b[1;32mIn [1]\u001b[0m, in \u001b[0;36m<cell line: 2>\u001b[1;34m()\u001b[0m\n\u001b[0;32m      1\u001b[0m \u001b[38;5;66;03m# print best parameters\u001b[39;00m\n\u001b[1;32m----> 2\u001b[0m \u001b[43mCV\u001b[49m\u001b[38;5;241m.\u001b[39mbest_params_\n",
      "\u001b[1;31mNameError\u001b[0m: name 'CV' is not defined"
     ]
    }
   ],
   "source": [
    "# print best parameters\n",
    "CV.best_params_"
   ]
  },
  {
   "cell_type": "markdown",
   "id": "4bd90b08",
   "metadata": {},
   "source": [
    "At this point we retrain our Random Forest Classifier using those hyperparameters, and see if we can improve our results:"
   ]
  },
  {
   "cell_type": "code",
   "execution_count": 52,
   "id": "b94c9d75",
   "metadata": {},
   "outputs": [],
   "source": [
    "# random forest classifier training with best hyperparameters\n",
    "rfc = RandomForestClassifier(random_state=42, max_features='auto', n_estimators= 200, max_depth=7, criterion='entropy')\n",
    "rfc.fit(X_train, y_train)\n",
    "y_pred = rfc.predict(X_test)"
   ]
  },
  {
   "cell_type": "markdown",
   "id": "c1e136c9",
   "metadata": {},
   "source": [
    "Let's check our test and training accuracy:"
   ]
  },
  {
   "cell_type": "code",
   "execution_count": 53,
   "id": "ee23f90a",
   "metadata": {},
   "outputs": [
    {
     "name": "stdout",
     "output_type": "stream",
     "text": [
      "Training score: 0.996\n",
      "Testing score: 0.948\n"
     ]
    }
   ],
   "source": [
    "# Model Accuracy\n",
    "print('Training score: {:.3f}'.format(rfc.score(X_train,y_train)))\n",
    "print('Testing score: {:.3f}'.format(rfc.score(X_test,y_test)))"
   ]
  },
  {
   "cell_type": "markdown",
   "id": "dc3dedd0",
   "metadata": {},
   "source": [
    "From previous results we see that we are getting worst accuracy results with respect to kNN. But we also want to check how it is our confusion matrix:"
   ]
  },
  {
   "cell_type": "code",
   "execution_count": 54,
   "id": "c9423aab",
   "metadata": {},
   "outputs": [
    {
     "data": {
      "text/plain": [
       "Text(0.5, 1.0, 'Confusion Matrix')"
      ]
     },
     "execution_count": 54,
     "metadata": {},
     "output_type": "execute_result"
    },
    {
     "data": {
      "image/png": "[encoded data removed]",
      "text/plain": [
       "<Figure size 432x288 with 2 Axes>"
      ]
     },
     "metadata": {
      "needs_background": "light"
     },
     "output_type": "display_data"
    }
   ],
   "source": [
    "ax = plt.subplot()\n",
    "\n",
    "# Calculate cm by calling a method named as 'confusion_matrix'\n",
    "cm = confusion_matrix(y_test, y_pred)\n",
    "\n",
    "# Call a method heatmap() to plot confusion matrix\n",
    "sns.heatmap(cm, annot = True)\n",
    "\n",
    "# Define x, y and title\n",
    "ax.set_xlabel('Predicted labels')\n",
    "ax.set_ylabel('True labels')\n",
    "ax.set_title('Confusion Matrix') "
   ]
  },
  {
   "cell_type": "markdown",
   "id": "fe2ccce8",
   "metadata": {},
   "source": [
    "We can definetly see some improvements by setting hyperparameters but not getting good results as the ones returned by kNN. We still have many false negatives that we don't want. \n",
    "\n",
    "Let's see our classification report:"
   ]
  },
  {
   "cell_type": "code",
   "execution_count": 55,
   "id": "32b8e9b8",
   "metadata": {},
   "outputs": [
    {
     "name": "stdout",
     "output_type": "stream",
     "text": [
      "              precision    recall  f1-score   support\n",
      "\n",
      "           0       0.99      0.96      0.97      1707\n",
      "           1       0.69      0.88      0.77       190\n",
      "\n",
      "    accuracy                           0.95      1897\n",
      "   macro avg       0.84      0.92      0.87      1897\n",
      "weighted avg       0.96      0.95      0.95      1897\n",
      "\n"
     ]
    }
   ],
   "source": [
    "# Display the classification report\n",
    "print(classification_report(y_test, y_pred))"
   ]
  },
  {
   "cell_type": "markdown",
   "id": "93b7353f",
   "metadata": {},
   "source": [
    "Indeed, the f1-scorefor class 1 is improved but it is not as good as the one produced by kNN. We should be able to graphycally see this by plotting our ROC Curve:"
   ]
  },
  {
   "cell_type": "code",
   "execution_count": 56,
   "id": "cf3ba8c4",
   "metadata": {},
   "outputs": [
    {
     "data": {
      "image/png": "[encoded data removed]",
      "text/plain": [
       "<Figure size 432x288 with 1 Axes>"
      ]
     },
     "metadata": {
      "needs_background": "light"
     },
     "output_type": "display_data"
    }
   ],
   "source": [
    "# ROC Curve plotting\n",
    "from sklearn.metrics import roc_curve\n",
    "\n",
    "y_pred_proba = rfc.predict_proba(X_test)[:,1]\n",
    "\n",
    "fpr, tpr, thresholds = roc_curve(y_test, y_pred_proba)\n",
    "\n",
    "plt.plot([0,1],[0,1],'k--')\n",
    "plt.plot(fpr,tpr, label='RFC')\n",
    "plt.xlabel('fpr')\n",
    "plt.ylabel('tpr')\n",
    "plt.title('Random Forest with best param ROC curve')\n",
    "plt.show()"
   ]
  },
  {
   "cell_type": "markdown",
   "id": "a89ed2ae",
   "metadata": {},
   "source": [
    "Let's check our AUC score:"
   ]
  },
  {
   "cell_type": "code",
   "execution_count": 57,
   "id": "423478c5",
   "metadata": {},
   "outputs": [
    {
     "data": {
      "text/plain": [
       "0.9807233373415966"
      ]
     },
     "execution_count": 57,
     "metadata": {},
     "output_type": "execute_result"
    }
   ],
   "source": [
    "#Area under ROC curve\n",
    "roc_auc_score(y_test,y_pred_proba)"
   ]
  },
  {
   "cell_type": "markdown",
   "id": "d1a04667",
   "metadata": {},
   "source": [
    "We now want to store the result we got for further analysis:"
   ]
  },
  {
   "cell_type": "code",
   "execution_count": 58,
   "id": "e4ef5c21",
   "metadata": {},
   "outputs": [],
   "source": [
    "# dict storing of knn results\n",
    "rfc_result = {\n",
    "    \"training_score\" : rfc.score(X_train,y_train), \n",
    "    \"test_score\": rfc.score(X_test,y_test), \n",
    "    \"cm\": cm, \n",
    "    \"classification_report\": classification_report(y_test, y_pred), \n",
    "    \"roc_auc_score\": roc_auc_score(y_test,y_pred_proba)\n",
    "}"
   ]
  },
  {
   "cell_type": "markdown",
   "id": "2425aaef",
   "metadata": {},
   "source": [
    "### Logistic Regression"
   ]
  },
  {
   "cell_type": "markdown",
   "id": "3097076c",
   "metadata": {},
   "source": [
    "Logistic regression is a statistical method for binary classification. It is a supervised learning algorithm that is used to predict the probability of an instance belonging to a particular class.\n",
    "\n",
    "The output of the logistic function is interpreted as the probability of the input data belonging to the positive class (usually represented as \"1\" in the data).\n",
    "\n",
    "Logistic regression is trained using an optimization algorithm that seeks to minimize the error between the predicted probabilities and the true class labels of the training data. The optimization algorithm adjusts the model parameters (also known as coefficients or weights) to minimize the error.\n",
    "\n",
    "One advantage of logistic regression is that it is relatively simple to implement and interpret, and it is widely used for binary classification tasks. However, it is limited to linear decision boundaries and may not perform well on non-linearly separable data. It is also sensitive to the presence of outliers in the data. SVM could be a better choice but given its semplicity we still want to see wat result we would get."
   ]
  },
  {
   "cell_type": "markdown",
   "id": "8255a590",
   "metadata": {},
   "source": [
    "Before trying to optimize our hyperparameters, let's try to just execute our Logistic Regression model as it is:"
   ]
  },
  {
   "cell_type": "code",
   "execution_count": 59,
   "id": "ed773dcf",
   "metadata": {},
   "outputs": [],
   "source": [
    "# logistic regression definition and training\n",
    "lr = LogisticRegression(random_state=42)\n",
    "lr.fit(X_train, y_train)\n",
    "\n",
    "y_pred = lr.predict(X_test)"
   ]
  },
  {
   "cell_type": "markdown",
   "id": "2d476451",
   "metadata": {},
   "source": [
    "And let's print our model accuracy:"
   ]
  },
  {
   "cell_type": "code",
   "execution_count": 60,
   "id": "04a27c7d",
   "metadata": {},
   "outputs": [
    {
     "name": "stdout",
     "output_type": "stream",
     "text": [
      "Training score: 0.996\n",
      "Testing score: 0.948\n"
     ]
    }
   ],
   "source": [
    "# Model Accuracy\n",
    "print('Training score: {:.3f}'.format(rfc.score(X_train,y_train)))\n",
    "print('Testing score: {:.3f}'.format(rfc.score(X_test,y_test)))"
   ]
  },
  {
   "cell_type": "markdown",
   "id": "ee1ee291",
   "metadata": {},
   "source": [
    "As it exactly happened with Random Forest, it seems that we are overfitting with the training dataset being very good at classifying normal behaviour bids but not anomalous ones. To cofirm this let's see what the confusion matrix returns:"
   ]
  },
  {
   "cell_type": "code",
   "execution_count": 61,
   "id": "f9060d9a",
   "metadata": {},
   "outputs": [
    {
     "data": {
      "text/plain": [
       "Text(0.5, 1.0, 'Confusion Matrix')"
      ]
     },
     "execution_count": 61,
     "metadata": {},
     "output_type": "execute_result"
    },
    {
     "data": {
      "image/png": "[encoded data removed]",
      "text/plain": [
       "<Figure size 432x288 with 2 Axes>"
      ]
     },
     "metadata": {
      "needs_background": "light"
     },
     "output_type": "display_data"
    }
   ],
   "source": [
    "ax = plt.subplot()\n",
    "\n",
    "# Calculate cm by calling a method named as 'confusion_matrix'\n",
    "cm = confusion_matrix(y_test, y_pred)\n",
    "\n",
    "# Call a method heatmap() to plot confusion matrix\n",
    "sns.heatmap(cm, annot = True)\n",
    "\n",
    "# Define x, y and title\n",
    "ax.set_xlabel('Predicted labels')\n",
    "ax.set_ylabel('True labels')\n",
    "ax.set_title('Confusion Matrix') "
   ]
  },
  {
   "cell_type": "markdown",
   "id": "2d56d487",
   "metadata": {},
   "source": [
    "Surprisingly, we see that we have no False Negative - that is our ideal case. On the other side we have way more False Positive - meaning that often normal bid would be identified as anomalous. At this point, the classification report should give us an high recall and low precision for class 1. Let's check it: "
   ]
  },
  {
   "cell_type": "code",
   "execution_count": 62,
   "id": "26c862ca",
   "metadata": {},
   "outputs": [
    {
     "name": "stdout",
     "output_type": "stream",
     "text": [
      "              precision    recall  f1-score   support\n",
      "\n",
      "           0       1.00      0.42      0.59      1707\n",
      "           1       0.16      1.00      0.28       190\n",
      "\n",
      "    accuracy                           0.47      1897\n",
      "   macro avg       0.58      0.71      0.43      1897\n",
      "weighted avg       0.92      0.47      0.56      1897\n",
      "\n"
     ]
    }
   ],
   "source": [
    "# Display the classification report\n",
    "print(classification_report(y_test, y_pred))"
   ]
  },
  {
   "cell_type": "markdown",
   "id": "cb8145ae",
   "metadata": {},
   "source": [
    "From the profile report we also see that recall is quite low for class 0 because, as previously said, often we are classyfing bids of type 0 to bids of type 1."
   ]
  },
  {
   "cell_type": "markdown",
   "id": "43d648b0",
   "metadata": {},
   "source": [
    "Let's see if using GridSearchCV we can improve our results. Let's start with the hyperparameters definition:"
   ]
  },
  {
   "cell_type": "code",
   "execution_count": 63,
   "id": "16e60739",
   "metadata": {},
   "outputs": [],
   "source": [
    "param_grid = {\n",
    "    'solver': ['newton-cg', 'lbfgs', 'liblinear', 'sag', 'saga'],\n",
    "    'C': [0.01, 0.1, 1, 2, 10, 100], \n",
    "    'penalty': ['none','l1','l2']\n",
    "}"
   ]
  },
  {
   "cell_type": "markdown",
   "id": "1574174b",
   "metadata": {},
   "source": [
    "Let's train our Cross Validation model using previously defined hyperparameters:"
   ]
  },
  {
   "cell_type": "code",
   "execution_count": 64,
   "id": "9d5892d3",
   "metadata": {},
   "outputs": [
    {
     "data": {
      "text/html": [
       "<style>#sk-container-id-3 {color: black;background-color: white;}#sk-container-id-3 pre{padding: 0;}#sk-container-id-3 div.sk-toggleable {background-color: white;}#sk-container-id-3 label.sk-toggleable__label {cursor: pointer;display: block;width: 100%;margin-bottom: 0;padding: 0.3em;box-sizing: border-box;text-align: center;}#sk-container-id-3 label.sk-toggleable__label-arrow:before {content: \"▸\";float: left;margin-right: 0.25em;color: #696969;}#sk-container-id-3 label.sk-toggleable__label-arrow:hover:before {color: black;}#sk-container-id-3 div.sk-estimator:hover label.sk-toggleable__label-arrow:before {color: black;}#sk-container-id-3 div.sk-toggleable__content {max-height: 0;max-width: 0;overflow: hidden;text-align: left;background-color: #f0f8ff;}#sk-container-id-3 div.sk-toggleable__content pre {margin: 0.2em;color: black;border-radius: 0.25em;background-color: #f0f8ff;}#sk-container-id-3 input.sk-toggleable__control:checked~div.sk-toggleable__content {max-height: 200px;max-width: 100%;overflow: auto;}#sk-container-id-3 input.sk-toggleable__control:checked~label.sk-toggleable__label-arrow:before {content: \"▾\";}#sk-container-id-3 div.sk-estimator input.sk-toggleable__control:checked~label.sk-toggleable__label {background-color: #d4ebff;}#sk-container-id-3 div.sk-label input.sk-toggleable__control:checked~label.sk-toggleable__label {background-color: #d4ebff;}#sk-container-id-3 input.sk-hidden--visually {border: 0;clip: rect(1px 1px 1px 1px);clip: rect(1px, 1px, 1px, 1px);height: 1px;margin: -1px;overflow: hidden;padding: 0;position: absolute;width: 1px;}#sk-container-id-3 div.sk-estimator {font-family: monospace;background-color: #f0f8ff;border: 1px dotted black;border-radius: 0.25em;box-sizing: border-box;margin-bottom: 0.5em;}#sk-container-id-3 div.sk-estimator:hover {background-color: #d4ebff;}#sk-container-id-3 div.sk-parallel-item::after {content: \"\";width: 100%;border-bottom: 1px solid gray;flex-grow: 1;}#sk-container-id-3 div.sk-label:hover label.sk-toggleable__label {background-color: #d4ebff;}#sk-container-id-3 div.sk-serial::before {content: \"\";position: absolute;border-left: 1px solid gray;box-sizing: border-box;top: 0;bottom: 0;left: 50%;z-index: 0;}#sk-container-id-3 div.sk-serial {display: flex;flex-direction: column;align-items: center;background-color: white;padding-right: 0.2em;padding-left: 0.2em;position: relative;}#sk-container-id-3 div.sk-item {position: relative;z-index: 1;}#sk-container-id-3 div.sk-parallel {display: flex;align-items: stretch;justify-content: center;background-color: white;position: relative;}#sk-container-id-3 div.sk-item::before, #sk-container-id-3 div.sk-parallel-item::before {content: \"\";position: absolute;border-left: 1px solid gray;box-sizing: border-box;top: 0;bottom: 0;left: 50%;z-index: -1;}#sk-container-id-3 div.sk-parallel-item {display: flex;flex-direction: column;z-index: 1;position: relative;background-color: white;}#sk-container-id-3 div.sk-parallel-item:first-child::after {align-self: flex-end;width: 50%;}#sk-container-id-3 div.sk-parallel-item:last-child::after {align-self: flex-start;width: 50%;}#sk-container-id-3 div.sk-parallel-item:only-child::after {width: 0;}#sk-container-id-3 div.sk-dashed-wrapped {border: 1px dashed gray;margin: 0 0.4em 0.5em 0.4em;box-sizing: border-box;padding-bottom: 0.4em;background-color: white;}#sk-container-id-3 div.sk-label label {font-family: monospace;font-weight: bold;display: inline-block;line-height: 1.2em;}#sk-container-id-3 div.sk-label-container {text-align: center;}#sk-container-id-3 div.sk-container {/* jupyter's `normalize.less` sets `[hidden] { display: none; }` but bootstrap.min.css set `[hidden] { display: none !important; }` so we also need the `!important` here to be able to override the default hidden behavior on the sphinx rendered scikit-learn.org. See: https://github.com/scikit-learn/scikit-learn/issues/21755 */display: inline-block !important;position: relative;}#sk-container-id-3 div.sk-text-repr-fallback {display: none;}</style><div id=\"sk-container-id-3\" class=\"sk-top-container\"><div class=\"sk-text-repr-fallback\"><pre>GridSearchCV(estimator=LogisticRegression(random_state=42),\n",
       "             param_grid={&#x27;C&#x27;: [0.01, 0.1, 1, 2, 10, 100],\n",
       "                         &#x27;penalty&#x27;: [&#x27;none&#x27;, &#x27;l1&#x27;, &#x27;l2&#x27;],\n",
       "                         &#x27;solver&#x27;: [&#x27;newton-cg&#x27;, &#x27;lbfgs&#x27;, &#x27;liblinear&#x27;, &#x27;sag&#x27;,\n",
       "                                    &#x27;saga&#x27;]})</pre><b>In a Jupyter environment, please rerun this cell to show the HTML representation or trust the notebook. <br />On GitHub, the HTML representation is unable to render, please try loading this page with nbviewer.org.</b></div><div class=\"sk-container\" hidden><div class=\"sk-item sk-dashed-wrapped\"><div class=\"sk-label-container\"><div class=\"sk-label sk-toggleable\"><input class=\"sk-toggleable__control sk-hidden--visually\" id=\"sk-estimator-id-5\" type=\"checkbox\" ><label for=\"sk-estimator-id-5\" class=\"sk-toggleable__label sk-toggleable__label-arrow\">GridSearchCV</label><div class=\"sk-toggleable__content\"><pre>GridSearchCV(estimator=LogisticRegression(random_state=42),\n",
       "             param_grid={&#x27;C&#x27;: [0.01, 0.1, 1, 2, 10, 100],\n",
       "                         &#x27;penalty&#x27;: [&#x27;none&#x27;, &#x27;l1&#x27;, &#x27;l2&#x27;],\n",
       "                         &#x27;solver&#x27;: [&#x27;newton-cg&#x27;, &#x27;lbfgs&#x27;, &#x27;liblinear&#x27;, &#x27;sag&#x27;,\n",
       "                                    &#x27;saga&#x27;]})</pre></div></div></div><div class=\"sk-parallel\"><div class=\"sk-parallel-item\"><div class=\"sk-item\"><div class=\"sk-label-container\"><div class=\"sk-label sk-toggleable\"><input class=\"sk-toggleable__control sk-hidden--visually\" id=\"sk-estimator-id-6\" type=\"checkbox\" ><label for=\"sk-estimator-id-6\" class=\"sk-toggleable__label sk-toggleable__label-arrow\">estimator: LogisticRegression</label><div class=\"sk-toggleable__content\"><pre>LogisticRegression(random_state=42)</pre></div></div></div><div class=\"sk-serial\"><div class=\"sk-item\"><div class=\"sk-estimator sk-toggleable\"><input class=\"sk-toggleable__control sk-hidden--visually\" id=\"sk-estimator-id-7\" type=\"checkbox\" ><label for=\"sk-estimator-id-7\" class=\"sk-toggleable__label sk-toggleable__label-arrow\">LogisticRegression</label><div class=\"sk-toggleable__content\"><pre>LogisticRegression(random_state=42)</pre></div></div></div></div></div></div></div></div></div></div>"
      ],
      "text/plain": [
       "GridSearchCV(estimator=LogisticRegression(random_state=42),\n",
       "             param_grid={'C': [0.01, 0.1, 1, 2, 10, 100],\n",
       "                         'penalty': ['none', 'l1', 'l2'],\n",
       "                         'solver': ['newton-cg', 'lbfgs', 'liblinear', 'sag',\n",
       "                                    'saga']})"
      ]
     },
     "execution_count": 64,
     "metadata": {},
     "output_type": "execute_result"
    }
   ],
   "source": [
    "#grid = dict(solver=solvers,penalty=penalty,C=c_values)\n",
    "#grid_search = GridSearchCV(estimator=logistic_regression, param_grid=grid, n_jobs=-1, scoring='accuracy',error_score=0)\n",
    "\n",
    "# cross validation model building\n",
    "CV = GridSearchCV(estimator=lr, param_grid=param_grid)\n",
    "CV.fit(X_train, y_train)"
   ]
  },
  {
   "cell_type": "markdown",
   "id": "a6617516",
   "metadata": {},
   "source": [
    "Let's plot the best hyperparameters found:"
   ]
  },
  {
   "cell_type": "code",
   "execution_count": 65,
   "id": "26c5c82d",
   "metadata": {},
   "outputs": [
    {
     "data": {
      "text/plain": [
       "{'C': 0.01, 'penalty': 'l1', 'solver': 'liblinear'}"
      ]
     },
     "execution_count": 65,
     "metadata": {},
     "output_type": "execute_result"
    }
   ],
   "source": [
    "# print best parameters\n",
    "CV.best_params_"
   ]
  },
  {
   "cell_type": "markdown",
   "id": "ef9cad8a",
   "metadata": {},
   "source": [
    "And retraining our Logistic Regression model using those:"
   ]
  },
  {
   "cell_type": "code",
   "execution_count": 66,
   "id": "332ea9a1",
   "metadata": {},
   "outputs": [],
   "source": [
    "# logistic regression training with best hyperparameters\n",
    "lr = LogisticRegression(C=0.01, penalty=\"l1\", solver=\"liblinear\")\n",
    "lr.fit(X_train, y_train)\n",
    "y_pred = lr.predict(X_test)"
   ]
  },
  {
   "cell_type": "markdown",
   "id": "f395a314",
   "metadata": {},
   "source": [
    "Let's check our testing and training accuracy:"
   ]
  },
  {
   "cell_type": "code",
   "execution_count": 67,
   "id": "252d0344",
   "metadata": {},
   "outputs": [
    {
     "name": "stdout",
     "output_type": "stream",
     "text": [
      "Training score: 0.929\n",
      "Testing score: 0.968\n"
     ]
    }
   ],
   "source": [
    "# Model Accuracy\n",
    "print('Training score: {:.3f}'.format(lr.score(X_train,y_train)))\n",
    "print('Testing score: {:.3f}'.format(lr.score(X_test,y_test)))"
   ]
  },
  {
   "cell_type": "markdown",
   "id": "04d97ca3",
   "metadata": {},
   "source": [
    "We are now having very similar results to the ones we were getting with kNN.\n",
    "Here given that the delta between training and test score is higher than kNN, it might be a sign that we are not performing as good as we want but let's doublecheck our confusion matrix:"
   ]
  },
  {
   "cell_type": "code",
   "execution_count": 68,
   "id": "049d1050",
   "metadata": {},
   "outputs": [
    {
     "data": {
      "text/plain": [
       "Text(0.5, 1.0, 'Confusion Matrix')"
      ]
     },
     "execution_count": 68,
     "metadata": {},
     "output_type": "execute_result"
    },
    {
     "data": {
      "image/png": "[encoded data removed]",
      "text/plain": [
       "<Figure size 432x288 with 2 Axes>"
      ]
     },
     "metadata": {
      "needs_background": "light"
     },
     "output_type": "display_data"
    }
   ],
   "source": [
    "ax = plt.subplot()\n",
    "\n",
    "# Calculate cm by calling a method named as 'confusion_matrix'\n",
    "cm = confusion_matrix(y_test, y_pred)\n",
    "\n",
    "# Call a method heatmap() to plot confusion matrix\n",
    "sns.heatmap(cm, annot = True)\n",
    "\n",
    "# Define x, y and title\n",
    "ax.set_xlabel('Predicted labels')\n",
    "ax.set_ylabel('True labels')\n",
    "ax.set_title('Confusion Matrix') "
   ]
  },
  {
   "cell_type": "markdown",
   "id": "423a731a",
   "metadata": {},
   "source": [
    "Indeed we are still keeping False negative to zero but we also greatly reduced the number of False positive."
   ]
  },
  {
   "cell_type": "markdown",
   "id": "3faed156",
   "metadata": {},
   "source": [
    "Let's try to better understand our results using the classification report:"
   ]
  },
  {
   "cell_type": "code",
   "execution_count": 69,
   "id": "da189f86",
   "metadata": {},
   "outputs": [
    {
     "name": "stdout",
     "output_type": "stream",
     "text": [
      "              precision    recall  f1-score   support\n",
      "\n",
      "           0       1.00      0.96      0.98      1707\n",
      "           1       0.76      1.00      0.86       190\n",
      "\n",
      "    accuracy                           0.97      1897\n",
      "   macro avg       0.88      0.98      0.92      1897\n",
      "weighted avg       0.98      0.97      0.97      1897\n",
      "\n"
     ]
    }
   ],
   "source": [
    "# Display the classification report\n",
    "print(classification_report(y_test, y_pred))"
   ]
  },
  {
   "cell_type": "markdown",
   "id": "ef09a674",
   "metadata": {},
   "source": [
    "We actually were able to very well increase both precision and recall for class 1. Let's see how the ROC Curve looks like:"
   ]
  },
  {
   "cell_type": "code",
   "execution_count": 70,
   "id": "6e0dcad5",
   "metadata": {},
   "outputs": [
    {
     "data": {
      "image/png": "[encoded data removed]",
      "text/plain": [
       "<Figure size 432x288 with 1 Axes>"
      ]
     },
     "metadata": {
      "needs_background": "light"
     },
     "output_type": "display_data"
    }
   ],
   "source": [
    "# ROC Curve plotting\n",
    "from sklearn.metrics import roc_curve\n",
    "\n",
    "y_pred_proba = rfc.predict_proba(X_test)[:,1]\n",
    "\n",
    "fpr, tpr, thresholds = roc_curve(y_test, y_pred_proba)\n",
    "\n",
    "plt.plot([0,1],[0,1],'k--')\n",
    "plt.plot(fpr,tpr, label='LR')\n",
    "plt.xlabel('fpr')\n",
    "plt.ylabel('tpr')\n",
    "plt.title('Logistic Regression with best param ROC curve')\n",
    "plt.show()"
   ]
  },
  {
   "cell_type": "markdown",
   "id": "ad202374",
   "metadata": {},
   "source": [
    "And our AUC Score:"
   ]
  },
  {
   "cell_type": "code",
   "execution_count": 71,
   "id": "2120502b",
   "metadata": {},
   "outputs": [
    {
     "data": {
      "text/plain": [
       "0.9807233373415966"
      ]
     },
     "execution_count": 71,
     "metadata": {},
     "output_type": "execute_result"
    }
   ],
   "source": [
    "#Area under ROC curve\n",
    "from sklearn.metrics import roc_auc_score\n",
    "roc_auc_score(y_test,y_pred_proba)"
   ]
  },
  {
   "cell_type": "markdown",
   "id": "317c0a2b",
   "metadata": {},
   "source": [
    "We now want to store the result we got for further analysis:"
   ]
  },
  {
   "cell_type": "code",
   "execution_count": 72,
   "id": "3f00792b",
   "metadata": {},
   "outputs": [],
   "source": [
    "# dict storing of knn results\n",
    "lr_result = {\n",
    "    \"training_score\" : lr.score(X_train,y_train), \n",
    "    \"test_score\": lr.score(X_test,y_test), \n",
    "    \"cm\": cm, \n",
    "    \"classification_report\": classification_report(y_test, y_pred), \n",
    "    \"roc_auc_score\": roc_auc_score(y_test,y_pred_proba)\n",
    "}"
   ]
  },
  {
   "cell_type": "markdown",
   "id": "3aa7e482",
   "metadata": {},
   "source": [
    "## Evaluation"
   ]
  },
  {
   "cell_type": "markdown",
   "id": "3153ef60",
   "metadata": {},
   "source": [
    "Evaluation is the fifth phase and is concerned with evaluating the performance and effectiveness of the data mining models developed in the previous modeling phase.\n",
    "\n",
    "During the evaluation phase, a number of metrics will be used to assess the quality of the models. These metrics we will include are accuracy, precision, recall, f1-score and AUC (area under the curve)."
   ]
  },
  {
   "cell_type": "markdown",
   "id": "650d3718",
   "metadata": {},
   "source": [
    "Let's now print out the results returned by the three models we have been working with."
   ]
  },
  {
   "cell_type": "code",
   "execution_count": 93,
   "id": "faf803fe",
   "metadata": {},
   "outputs": [
    {
     "name": "stdout",
     "output_type": "stream",
     "text": [
      "kNN Training score:  0.9463917525773196\n",
      "kNN Test score:  0.9599367422245652\n",
      "kNN Confusion matrix:\n",
      " [[1634   73]\n",
      " [   3  187]]\n",
      "kNN Classification report:\n",
      "               precision    recall  f1-score   support\n",
      "\n",
      "           0       1.00      0.96      0.98      1707\n",
      "           1       0.72      0.98      0.83       190\n",
      "\n",
      "    accuracy                           0.96      1897\n",
      "   macro avg       0.86      0.97      0.90      1897\n",
      "weighted avg       0.97      0.96      0.96      1897\n",
      "\n",
      "kNN ROC AUC score:  0.9783630869793112\n"
     ]
    }
   ],
   "source": [
    "# kNN result printing\n",
    "\n",
    "print(\"kNN Train score: \", kNN_result[\"training_score\"])\n",
    "print(\"kNN Test score: \", kNN_result[\"test_score\"])\n",
    "print(\"kNN Confusion matrix:\\n\", kNN_result[\"cm\"])\n",
    "print(\"kNN Classification report:\\n \" + kNN_result[\"classification_report\"])\n",
    "print(\"kNN ROC AUC score: \", kNN_result[\"roc_auc_score\"])"
   ]
  },
  {
   "cell_type": "code",
   "execution_count": 95,
   "id": "aedfc1c3",
   "metadata": {},
   "outputs": [
    {
     "name": "stdout",
     "output_type": "stream",
     "text": [
      "Random Forest Training score:  0.9958762886597938\n",
      "Random Forest Test score:  0.9478123352662098\n",
      "Random Forest Confusion matrix:\n",
      " [[1631   76]\n",
      " [  23  167]]\n",
      "Random Forest Classification report:\n",
      "              precision    recall  f1-score   support\n",
      "\n",
      "           0       0.99      0.96      0.97      1707\n",
      "           1       0.69      0.88      0.77       190\n",
      "\n",
      "    accuracy                           0.95      1897\n",
      "   macro avg       0.84      0.92      0.87      1897\n",
      "weighted avg       0.96      0.95      0.95      1897\n",
      "\n",
      "Random Forest ROC AUC score:  0.9807233373415966\n"
     ]
    }
   ],
   "source": [
    "# Random Forest result printing\n",
    "\n",
    "print(\"Random Forest Train score: \", rfc_result[\"training_score\"])\n",
    "print(\"Random Forest Test score: \", rfc_result[\"test_score\"])\n",
    "print(\"Random Forest Confusion matrix:\\n\", rfc_result[\"cm\"])\n",
    "print(\"Random Forest Classification report:\\n\" + rfc_result[\"classification_report\"])\n",
    "print(\"Random Forest ROC AUC score: \", rfc_result[\"roc_auc_score\"])"
   ]
  },
  {
   "cell_type": "code",
   "execution_count": 96,
   "id": "64f94f36",
   "metadata": {},
   "outputs": [
    {
     "name": "stdout",
     "output_type": "stream",
     "text": [
      "Logistic Regression Training score:  0.9288659793814433\n",
      "Logistic Regression Test score:  0.9683711122825513\n",
      "Logistic Regression Confusion matrix:\n",
      " [[1647   60]\n",
      " [   0  190]]\n",
      "Logistic Regression Classification report:\n",
      "              precision    recall  f1-score   support\n",
      "\n",
      "           0       1.00      0.96      0.98      1707\n",
      "           1       0.76      1.00      0.86       190\n",
      "\n",
      "    accuracy                           0.97      1897\n",
      "   macro avg       0.88      0.98      0.92      1897\n",
      "weighted avg       0.98      0.97      0.97      1897\n",
      "\n",
      "Logistic Regression ROC AUC score:  0.9807233373415966\n"
     ]
    }
   ],
   "source": [
    "# Logistic Regression result printing\n",
    "\n",
    "print(\"Logistic Regression Train score: \", lr_result[\"training_score\"])\n",
    "print(\"Logistic Regression Test score: \", lr_result[\"test_score\"])\n",
    "print(\"Logistic Regression Confusion matrix:\\n\", lr_result[\"cm\"])\n",
    "print(\"Logistic Regression Classification report:\\n\" + lr_result[\"classification_report\"])\n",
    "print(\"Logistic Regression ROC AUC score: \", lr_result[\"roc_auc_score\"])"
   ]
  },
  {
   "cell_type": "code",
   "execution_count": 125,
   "id": "89a82a51",
   "metadata": {},
   "outputs": [
    {
     "data": {
      "text/html": [
       "<table border=\"1\" class=\"dataframe\">\n",
       "  <thead>\n",
       "    <tr style=\"text-align: right;\">\n",
       "      <th>Metric</th>\n",
       "      <th>kNN</th>\n",
       "      <th>Random Forest</th>\n",
       "      <th>Logistic Regression</th>\n",
       "    </tr>\n",
       "  </thead>\n",
       "  <tbody>\n",
       "    <tr>\n",
       "      <td>Training Score</td>\n",
       "      <td>0.946</td>\n",
       "      <td>0.995</td>\n",
       "      <td>0.928</td>\n",
       "    </tr>\n",
       "    <tr>\n",
       "      <td>Test score</td>\n",
       "      <td>0.959</td>\n",
       "      <td>0.947</td>\n",
       "      <td>0.968</td>\n",
       "    </tr>\n",
       "    <tr>\n",
       "      <td>True Negative</td>\n",
       "      <td>1634.000</td>\n",
       "      <td>1631.000</td>\n",
       "      <td>1647.000</td>\n",
       "    </tr>\n",
       "    <tr>\n",
       "      <td>False Positive</td>\n",
       "      <td>73.000</td>\n",
       "      <td>76.000</td>\n",
       "      <td>60.000</td>\n",
       "    </tr>\n",
       "    <tr>\n",
       "      <td>False Negative</td>\n",
       "      <td>3.000</td>\n",
       "      <td>23.000</td>\n",
       "      <td>0.000</td>\n",
       "    </tr>\n",
       "    <tr>\n",
       "      <td>True Positive</td>\n",
       "      <td>187.000</td>\n",
       "      <td>167.000</td>\n",
       "      <td>190.000</td>\n",
       "    </tr>\n",
       "    <tr>\n",
       "      <td>Class 0 Precision</td>\n",
       "      <td>1.000</td>\n",
       "      <td>0.990</td>\n",
       "      <td>1.000</td>\n",
       "    </tr>\n",
       "    <tr>\n",
       "      <td>Class 0 Recall</td>\n",
       "      <td>0.960</td>\n",
       "      <td>0.960</td>\n",
       "      <td>0.960</td>\n",
       "    </tr>\n",
       "    <tr>\n",
       "      <td>Class 0 F1-score</td>\n",
       "      <td>0.980</td>\n",
       "      <td>0.970</td>\n",
       "      <td>0.980</td>\n",
       "    </tr>\n",
       "    <tr>\n",
       "      <td>Class 1 Precision</td>\n",
       "      <td>0.720</td>\n",
       "      <td>0.690</td>\n",
       "      <td>0.760</td>\n",
       "    </tr>\n",
       "    <tr>\n",
       "      <td>Class 1 Recall</td>\n",
       "      <td>0.980</td>\n",
       "      <td>0.880</td>\n",
       "      <td>1.000</td>\n",
       "    </tr>\n",
       "    <tr>\n",
       "      <td>Class 1 F1-score</td>\n",
       "      <td>0.830</td>\n",
       "      <td>0.770</td>\n",
       "      <td>0.860</td>\n",
       "    </tr>\n",
       "    <tr>\n",
       "      <td>ROC AUC Score</td>\n",
       "      <td>0.978</td>\n",
       "      <td>0.980</td>\n",
       "      <td>0.980</td>\n",
       "    </tr>\n",
       "  </tbody>\n",
       "</table>"
      ],
      "text/plain": [
       "<IPython.core.display.HTML object>"
      ]
     },
     "metadata": {},
     "output_type": "display_data"
    }
   ],
   "source": [
    "from IPython.core.display import HTML\n",
    "\n",
    "# Create a sample DataFrame\n",
    "df = pd.DataFrame({\n",
    "    'Metric': [\"Training Score\", \"Test score\", \"True Negative\", \"False Positive\", \"False Negative\", \"True Positive\", \"Class 0 Precision\", \"Class 0 Recall\", \"Class 0 F1-score\", \"Class 1 Precision\", \"Class 1 Recall\", \"Class 1 F1-score\", \"ROC AUC Score\"], \n",
    "    'kNN': [0.946, 0.959, 1634, 73, 3, 187, 1.00, 0.96, 0.98, 0.72, 0.98, 0.83, 0.978],\n",
    "    'Random Forest': [0.995, 0.947, 1631, 76, 23, 167, 0.99, 0.96, 0.97, 0.69, 0.88, 0.77, 0.980],\n",
    "    'Logistic Regression': [0.928, 0.968, 1647, 60, 0, 190, 1.00, 0.96, 0.98, 0.76, 1.00, 0.86, 0.980],\n",
    "})\n",
    "\n",
    "# Convert the DataFrame to an HTML table\n",
    "html_table = df.to_html(index=False)\n",
    "\n",
    "# Display the table in the Jupyter notebook\n",
    "display(HTML(html_table))"
   ]
  },
  {
   "cell_type": "code",
   "execution_count": null,
   "id": "9d0037dc",
   "metadata": {},
   "outputs": [],
   "source": []
  }
 ],
 "metadata": {
  "kernelspec": {
   "display_name": "Python 3 (ipykernel)",
   "language": "python",
   "name": "python3"
  },
  "language_info": {
   "codemirror_mode": {
    "name": "ipython",
    "version": 3
   },
   "file_extension": ".py",
   "mimetype": "text/x-python",
   "name": "python",
   "nbconvert_exporter": "python",
   "pygments_lexer": "ipython3",
   "version": "3.9.12"
  }
 },
 "nbformat": 4,
 "nbformat_minor": 5
}
